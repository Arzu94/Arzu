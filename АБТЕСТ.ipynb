{
 "cells": [
  {
   "cell_type": "markdown",
   "metadata": {},
   "source": [
    "**Вступление**\n",
    "\n",
    "В качестве аналитика крупного интернет-магазина, в данной работе рассмотрим два важных этапа: приоритизацию гипотез с помощью фреймворков ICE и RICE, а также анализ результатов A/B-теста, который был проведен для оценки эффективности выбранных изменений.\n",
    "\n",
    "**Цель проекта** \n",
    "Приоритизировать гипотезы, запустить A/B-тест и проанализировать результаты.\n",
    "\n",
    "**План работы:**\n",
    "\n",
    "**Шаг 1.** Загрузка данных и подготовка к анализу\n",
    "\n",
    "1.1. Импорт библиотек и загрузка данных.\n",
    "\n",
    "1.2. Обзор данных.\n",
    "\n",
    "1.3. Предобработка данных\n",
    "\n",
    "**Шаг 2.** Принятие решении в бизнесе на основе данных\n",
    "\n",
    "2.1. Приоритизация гипотез\n",
    "\n",
    "2.2. Анализ A/B-теста\n",
    "\n",
    "**Шаг 3.** Общие выводы"
   ]
  },
  {
   "cell_type": "markdown",
   "metadata": {},
   "source": [
    "#### Загрузка данных и подготовка к анализу"
   ]
  },
  {
   "cell_type": "markdown",
   "metadata": {},
   "source": [
    "##### Импорт библиотек и загрузка данных."
   ]
  },
  {
   "cell_type": "code",
   "execution_count": 1,
   "metadata": {},
   "outputs": [],
   "source": [
    "import pandas as pd\n",
    "import numpy as np\n",
    "import matplotlib.pyplot as plt\n",
    "import scipy.stats as stats\n",
    "from scipy.stats import mannwhitneyu\n",
    "import datetime as dt\n",
    "import seaborn as sns"
   ]
  },
  {
   "cell_type": "code",
   "execution_count": 2,
   "metadata": {},
   "outputs": [],
   "source": [
    "hypothesis = pd.read_csv('/datasets/hypothesis.csv')   \n",
    "orders = pd.read_csv('/datasets/orders.csv')           \n",
    "visitors = pd.read_csv('/datasets/visitors.csv')  "
   ]
  },
  {
   "cell_type": "markdown",
   "metadata": {},
   "source": [
    "Информация о датасетах:\n",
    "\n",
    "1. Таблица hypothesis.csv:\n",
    "\n",
    "- `Hypothesis` — краткое описание гипотезы;\n",
    "- `Reach` — охват пользователей по 10-балльной шкале;Impact — влияние на пользователей по 10-балльной шкале;Confidence — уверенность в гипотезе по 10-балльной шкале;Efforts — затраты ресурсов на проверку гипотезы по 10-балльной шкале. Чем больше значение Efforts, тем дороже проверка гипотезы.\n",
    "\n",
    "2. Таблица  orders.csv:\n",
    "\n",
    "- `transactionId` — идентификатор заказа;\n",
    "- `visitorId` — идентификатор пользователя, совершившего заказ;\n",
    "- `date` — дата, когда был совершён заказ;\n",
    "- `revenue` — выручка заказа;\n",
    "- `group` — группа A/B-теста, в которую попал заказ.\n",
    "\n",
    "3. Таблица visitors.csv :\n",
    "\n",
    "- `date` — дата;\n",
    "- `group` — группа A/B-теста;\n",
    "- `visitors` — количество пользователей в указанную дату в указанной группе A/B-теста"
   ]
  },
  {
   "cell_type": "code",
   "execution_count": 3,
   "metadata": {},
   "outputs": [
    {
     "data": {
      "text/html": [
       "<div>\n",
       "<style scoped>\n",
       "    .dataframe tbody tr th:only-of-type {\n",
       "        vertical-align: middle;\n",
       "    }\n",
       "\n",
       "    .dataframe tbody tr th {\n",
       "        vertical-align: top;\n",
       "    }\n",
       "\n",
       "    .dataframe thead th {\n",
       "        text-align: right;\n",
       "    }\n",
       "</style>\n",
       "<table border=\"1\" class=\"dataframe\">\n",
       "  <thead>\n",
       "    <tr style=\"text-align: right;\">\n",
       "      <th></th>\n",
       "      <th>Hypothesis</th>\n",
       "      <th>Reach</th>\n",
       "      <th>Impact</th>\n",
       "      <th>Confidence</th>\n",
       "      <th>Efforts</th>\n",
       "    </tr>\n",
       "  </thead>\n",
       "  <tbody>\n",
       "    <tr>\n",
       "      <th>0</th>\n",
       "      <td>Добавить два новых канала привлечения трафика, что позволит привлекать на 30% больше пользователей</td>\n",
       "      <td>3</td>\n",
       "      <td>10</td>\n",
       "      <td>8</td>\n",
       "      <td>6</td>\n",
       "    </tr>\n",
       "    <tr>\n",
       "      <th>1</th>\n",
       "      <td>Запустить собственную службу доставки, что сократит срок доставки заказов</td>\n",
       "      <td>2</td>\n",
       "      <td>5</td>\n",
       "      <td>4</td>\n",
       "      <td>10</td>\n",
       "    </tr>\n",
       "    <tr>\n",
       "      <th>2</th>\n",
       "      <td>Добавить блоки рекомендаций товаров на сайт интернет магазина, чтобы повысить конверсию и средни...</td>\n",
       "      <td>8</td>\n",
       "      <td>3</td>\n",
       "      <td>7</td>\n",
       "      <td>3</td>\n",
       "    </tr>\n",
       "    <tr>\n",
       "      <th>3</th>\n",
       "      <td>Изменить структура категорий, что увеличит конверсию, т.к. пользователи быстрее найдут нужный товар</td>\n",
       "      <td>8</td>\n",
       "      <td>3</td>\n",
       "      <td>3</td>\n",
       "      <td>8</td>\n",
       "    </tr>\n",
       "    <tr>\n",
       "      <th>4</th>\n",
       "      <td>Изменить цвет фона главной страницы, чтобы увеличить вовлеченность пользователей</td>\n",
       "      <td>3</td>\n",
       "      <td>1</td>\n",
       "      <td>1</td>\n",
       "      <td>1</td>\n",
       "    </tr>\n",
       "    <tr>\n",
       "      <th>5</th>\n",
       "      <td>Добавить страницу отзывов клиентов о магазине, что позволит увеличить количество заказов</td>\n",
       "      <td>3</td>\n",
       "      <td>2</td>\n",
       "      <td>2</td>\n",
       "      <td>3</td>\n",
       "    </tr>\n",
       "    <tr>\n",
       "      <th>6</th>\n",
       "      <td>Показать на главной странице баннеры с актуальными акциями и распродажами, чтобы увеличить конве...</td>\n",
       "      <td>5</td>\n",
       "      <td>3</td>\n",
       "      <td>8</td>\n",
       "      <td>3</td>\n",
       "    </tr>\n",
       "    <tr>\n",
       "      <th>7</th>\n",
       "      <td>Добавить форму подписки на все основные страницы, чтобы собрать базу клиентов для email-рассылок</td>\n",
       "      <td>10</td>\n",
       "      <td>7</td>\n",
       "      <td>8</td>\n",
       "      <td>5</td>\n",
       "    </tr>\n",
       "    <tr>\n",
       "      <th>8</th>\n",
       "      <td>Запустить акцию, дающую скидку на товар в день рождения</td>\n",
       "      <td>1</td>\n",
       "      <td>9</td>\n",
       "      <td>9</td>\n",
       "      <td>5</td>\n",
       "    </tr>\n",
       "  </tbody>\n",
       "</table>\n",
       "</div>"
      ],
      "text/plain": [
       "                                                                                            Hypothesis  \\\n",
       "0   Добавить два новых канала привлечения трафика, что позволит привлекать на 30% больше пользователей   \n",
       "1                            Запустить собственную службу доставки, что сократит срок доставки заказов   \n",
       "2  Добавить блоки рекомендаций товаров на сайт интернет магазина, чтобы повысить конверсию и средни...   \n",
       "3  Изменить структура категорий, что увеличит конверсию, т.к. пользователи быстрее найдут нужный товар   \n",
       "4                     Изменить цвет фона главной страницы, чтобы увеличить вовлеченность пользователей   \n",
       "5             Добавить страницу отзывов клиентов о магазине, что позволит увеличить количество заказов   \n",
       "6  Показать на главной странице баннеры с актуальными акциями и распродажами, чтобы увеличить конве...   \n",
       "7     Добавить форму подписки на все основные страницы, чтобы собрать базу клиентов для email-рассылок   \n",
       "8                                              Запустить акцию, дающую скидку на товар в день рождения   \n",
       "\n",
       "   Reach  Impact  Confidence  Efforts  \n",
       "0      3      10           8        6  \n",
       "1      2       5           4       10  \n",
       "2      8       3           7        3  \n",
       "3      8       3           3        8  \n",
       "4      3       1           1        1  \n",
       "5      3       2           2        3  \n",
       "6      5       3           8        3  \n",
       "7     10       7           8        5  \n",
       "8      1       9           9        5  "
      ]
     },
     "metadata": {},
     "output_type": "display_data"
    },
    {
     "name": "stdout",
     "output_type": "stream",
     "text": [
      "<class 'pandas.core.frame.DataFrame'>\n",
      "RangeIndex: 9 entries, 0 to 8\n",
      "Data columns (total 5 columns):\n",
      " #   Column      Non-Null Count  Dtype \n",
      "---  ------      --------------  ----- \n",
      " 0   Hypothesis  9 non-null      object\n",
      " 1   Reach       9 non-null      int64 \n",
      " 2   Impact      9 non-null      int64 \n",
      " 3   Confidence  9 non-null      int64 \n",
      " 4   Efforts     9 non-null      int64 \n",
      "dtypes: int64(4), object(1)\n",
      "memory usage: 488.0+ bytes\n",
      "None\n",
      "Количество дубликатов в hypothesis: 0\n"
     ]
    },
    {
     "data": {
      "text/html": [
       "<div>\n",
       "<style scoped>\n",
       "    .dataframe tbody tr th:only-of-type {\n",
       "        vertical-align: middle;\n",
       "    }\n",
       "\n",
       "    .dataframe tbody tr th {\n",
       "        vertical-align: top;\n",
       "    }\n",
       "\n",
       "    .dataframe thead th {\n",
       "        text-align: right;\n",
       "    }\n",
       "</style>\n",
       "<table border=\"1\" class=\"dataframe\">\n",
       "  <thead>\n",
       "    <tr style=\"text-align: right;\">\n",
       "      <th></th>\n",
       "      <th>transactionId</th>\n",
       "      <th>visitorId</th>\n",
       "      <th>date</th>\n",
       "      <th>revenue</th>\n",
       "      <th>group</th>\n",
       "    </tr>\n",
       "  </thead>\n",
       "  <tbody>\n",
       "    <tr>\n",
       "      <th>0</th>\n",
       "      <td>3667963787</td>\n",
       "      <td>3312258926</td>\n",
       "      <td>2019-08-15</td>\n",
       "      <td>1650</td>\n",
       "      <td>B</td>\n",
       "    </tr>\n",
       "    <tr>\n",
       "      <th>1</th>\n",
       "      <td>2804400009</td>\n",
       "      <td>3642806036</td>\n",
       "      <td>2019-08-15</td>\n",
       "      <td>730</td>\n",
       "      <td>B</td>\n",
       "    </tr>\n",
       "    <tr>\n",
       "      <th>2</th>\n",
       "      <td>2961555356</td>\n",
       "      <td>4069496402</td>\n",
       "      <td>2019-08-15</td>\n",
       "      <td>400</td>\n",
       "      <td>A</td>\n",
       "    </tr>\n",
       "    <tr>\n",
       "      <th>3</th>\n",
       "      <td>3797467345</td>\n",
       "      <td>1196621759</td>\n",
       "      <td>2019-08-15</td>\n",
       "      <td>9759</td>\n",
       "      <td>B</td>\n",
       "    </tr>\n",
       "    <tr>\n",
       "      <th>4</th>\n",
       "      <td>2282983706</td>\n",
       "      <td>2322279887</td>\n",
       "      <td>2019-08-15</td>\n",
       "      <td>2308</td>\n",
       "      <td>B</td>\n",
       "    </tr>\n",
       "    <tr>\n",
       "      <th>...</th>\n",
       "      <td>...</td>\n",
       "      <td>...</td>\n",
       "      <td>...</td>\n",
       "      <td>...</td>\n",
       "      <td>...</td>\n",
       "    </tr>\n",
       "    <tr>\n",
       "      <th>1192</th>\n",
       "      <td>2662137336</td>\n",
       "      <td>3733762160</td>\n",
       "      <td>2019-08-14</td>\n",
       "      <td>6490</td>\n",
       "      <td>B</td>\n",
       "    </tr>\n",
       "    <tr>\n",
       "      <th>1193</th>\n",
       "      <td>2203539145</td>\n",
       "      <td>370388673</td>\n",
       "      <td>2019-08-14</td>\n",
       "      <td>3190</td>\n",
       "      <td>A</td>\n",
       "    </tr>\n",
       "    <tr>\n",
       "      <th>1194</th>\n",
       "      <td>1807773912</td>\n",
       "      <td>573423106</td>\n",
       "      <td>2019-08-14</td>\n",
       "      <td>10550</td>\n",
       "      <td>A</td>\n",
       "    </tr>\n",
       "    <tr>\n",
       "      <th>1195</th>\n",
       "      <td>1947021204</td>\n",
       "      <td>1614305549</td>\n",
       "      <td>2019-08-14</td>\n",
       "      <td>100</td>\n",
       "      <td>A</td>\n",
       "    </tr>\n",
       "    <tr>\n",
       "      <th>1196</th>\n",
       "      <td>3936777065</td>\n",
       "      <td>2108080724</td>\n",
       "      <td>2019-08-15</td>\n",
       "      <td>202740</td>\n",
       "      <td>B</td>\n",
       "    </tr>\n",
       "  </tbody>\n",
       "</table>\n",
       "<p>1197 rows × 5 columns</p>\n",
       "</div>"
      ],
      "text/plain": [
       "      transactionId   visitorId        date  revenue group\n",
       "0        3667963787  3312258926  2019-08-15     1650     B\n",
       "1        2804400009  3642806036  2019-08-15      730     B\n",
       "2        2961555356  4069496402  2019-08-15      400     A\n",
       "3        3797467345  1196621759  2019-08-15     9759     B\n",
       "4        2282983706  2322279887  2019-08-15     2308     B\n",
       "...             ...         ...         ...      ...   ...\n",
       "1192     2662137336  3733762160  2019-08-14     6490     B\n",
       "1193     2203539145   370388673  2019-08-14     3190     A\n",
       "1194     1807773912   573423106  2019-08-14    10550     A\n",
       "1195     1947021204  1614305549  2019-08-14      100     A\n",
       "1196     3936777065  2108080724  2019-08-15   202740     B\n",
       "\n",
       "[1197 rows x 5 columns]"
      ]
     },
     "metadata": {},
     "output_type": "display_data"
    },
    {
     "name": "stdout",
     "output_type": "stream",
     "text": [
      "<class 'pandas.core.frame.DataFrame'>\n",
      "RangeIndex: 1197 entries, 0 to 1196\n",
      "Data columns (total 5 columns):\n",
      " #   Column         Non-Null Count  Dtype \n",
      "---  ------         --------------  ----- \n",
      " 0   transactionId  1197 non-null   int64 \n",
      " 1   visitorId      1197 non-null   int64 \n",
      " 2   date           1197 non-null   object\n",
      " 3   revenue        1197 non-null   int64 \n",
      " 4   group          1197 non-null   object\n",
      "dtypes: int64(3), object(2)\n",
      "memory usage: 46.9+ KB\n",
      "None\n",
      "Количество дубликатов в orders: 0\n"
     ]
    },
    {
     "data": {
      "text/html": [
       "<div>\n",
       "<style scoped>\n",
       "    .dataframe tbody tr th:only-of-type {\n",
       "        vertical-align: middle;\n",
       "    }\n",
       "\n",
       "    .dataframe tbody tr th {\n",
       "        vertical-align: top;\n",
       "    }\n",
       "\n",
       "    .dataframe thead th {\n",
       "        text-align: right;\n",
       "    }\n",
       "</style>\n",
       "<table border=\"1\" class=\"dataframe\">\n",
       "  <thead>\n",
       "    <tr style=\"text-align: right;\">\n",
       "      <th></th>\n",
       "      <th>date</th>\n",
       "      <th>group</th>\n",
       "      <th>visitors</th>\n",
       "    </tr>\n",
       "  </thead>\n",
       "  <tbody>\n",
       "    <tr>\n",
       "      <th>0</th>\n",
       "      <td>2019-08-01</td>\n",
       "      <td>A</td>\n",
       "      <td>719</td>\n",
       "    </tr>\n",
       "    <tr>\n",
       "      <th>1</th>\n",
       "      <td>2019-08-02</td>\n",
       "      <td>A</td>\n",
       "      <td>619</td>\n",
       "    </tr>\n",
       "    <tr>\n",
       "      <th>2</th>\n",
       "      <td>2019-08-03</td>\n",
       "      <td>A</td>\n",
       "      <td>507</td>\n",
       "    </tr>\n",
       "    <tr>\n",
       "      <th>3</th>\n",
       "      <td>2019-08-04</td>\n",
       "      <td>A</td>\n",
       "      <td>717</td>\n",
       "    </tr>\n",
       "    <tr>\n",
       "      <th>4</th>\n",
       "      <td>2019-08-05</td>\n",
       "      <td>A</td>\n",
       "      <td>756</td>\n",
       "    </tr>\n",
       "    <tr>\n",
       "      <th>...</th>\n",
       "      <td>...</td>\n",
       "      <td>...</td>\n",
       "      <td>...</td>\n",
       "    </tr>\n",
       "    <tr>\n",
       "      <th>57</th>\n",
       "      <td>2019-08-27</td>\n",
       "      <td>B</td>\n",
       "      <td>720</td>\n",
       "    </tr>\n",
       "    <tr>\n",
       "      <th>58</th>\n",
       "      <td>2019-08-28</td>\n",
       "      <td>B</td>\n",
       "      <td>654</td>\n",
       "    </tr>\n",
       "    <tr>\n",
       "      <th>59</th>\n",
       "      <td>2019-08-29</td>\n",
       "      <td>B</td>\n",
       "      <td>531</td>\n",
       "    </tr>\n",
       "    <tr>\n",
       "      <th>60</th>\n",
       "      <td>2019-08-30</td>\n",
       "      <td>B</td>\n",
       "      <td>490</td>\n",
       "    </tr>\n",
       "    <tr>\n",
       "      <th>61</th>\n",
       "      <td>2019-08-31</td>\n",
       "      <td>B</td>\n",
       "      <td>718</td>\n",
       "    </tr>\n",
       "  </tbody>\n",
       "</table>\n",
       "<p>62 rows × 3 columns</p>\n",
       "</div>"
      ],
      "text/plain": [
       "          date group  visitors\n",
       "0   2019-08-01     A       719\n",
       "1   2019-08-02     A       619\n",
       "2   2019-08-03     A       507\n",
       "3   2019-08-04     A       717\n",
       "4   2019-08-05     A       756\n",
       "..         ...   ...       ...\n",
       "57  2019-08-27     B       720\n",
       "58  2019-08-28     B       654\n",
       "59  2019-08-29     B       531\n",
       "60  2019-08-30     B       490\n",
       "61  2019-08-31     B       718\n",
       "\n",
       "[62 rows x 3 columns]"
      ]
     },
     "metadata": {},
     "output_type": "display_data"
    },
    {
     "name": "stdout",
     "output_type": "stream",
     "text": [
      "<class 'pandas.core.frame.DataFrame'>\n",
      "RangeIndex: 62 entries, 0 to 61\n",
      "Data columns (total 3 columns):\n",
      " #   Column    Non-Null Count  Dtype \n",
      "---  ------    --------------  ----- \n",
      " 0   date      62 non-null     object\n",
      " 1   group     62 non-null     object\n",
      " 2   visitors  62 non-null     int64 \n",
      "dtypes: int64(1), object(2)\n",
      "memory usage: 1.6+ KB\n",
      "None\n",
      "Количество дубликатов в visitors: 0\n"
     ]
    }
   ],
   "source": [
    "pd.options.display.max_colwidth = 100\n",
    "display(hypothesis)\n",
    "print(hypothesis.info())\n",
    "print('Количество дубликатов в hypothesis:', hypothesis.duplicated().sum())\n",
    "\n",
    "display(orders)\n",
    "print(orders.info())\n",
    "print('Количество дубликатов в orders:', orders.duplicated().sum())\n",
    "\n",
    "display(visitors)\n",
    "print(visitors.info())\n",
    "print('Количество дубликатов в visitors:', visitors.duplicated().sum())"
   ]
  },
  {
   "cell_type": "markdown",
   "metadata": {},
   "source": [
    "***Промежуточный вывод:***"
   ]
  },
  {
   "cell_type": "markdown",
   "metadata": {},
   "source": [
    "- Пропуски и дубликаты не обнаружены.\n",
    "- Необходимо привести в формат даты колонку 'date' таблиц `orders` и `visitors`."
   ]
  },
  {
   "cell_type": "markdown",
   "metadata": {},
   "source": [
    "##### Предобработка данных."
   ]
  },
  {
   "cell_type": "code",
   "execution_count": 4,
   "metadata": {},
   "outputs": [
    {
     "name": "stdout",
     "output_type": "stream",
     "text": [
      "<class 'pandas.core.frame.DataFrame'>\n",
      "RangeIndex: 9 entries, 0 to 8\n",
      "Data columns (total 5 columns):\n",
      " #   Column      Non-Null Count  Dtype \n",
      "---  ------      --------------  ----- \n",
      " 0   hypothesis  9 non-null      object\n",
      " 1   reach       9 non-null      int64 \n",
      " 2   impact      9 non-null      int64 \n",
      " 3   confidence  9 non-null      int64 \n",
      " 4   efforts     9 non-null      int64 \n",
      "dtypes: int64(4), object(1)\n",
      "memory usage: 488.0+ bytes\n",
      "<class 'pandas.core.frame.DataFrame'>\n",
      "RangeIndex: 1197 entries, 0 to 1196\n",
      "Data columns (total 5 columns):\n",
      " #   Column         Non-Null Count  Dtype         \n",
      "---  ------         --------------  -----         \n",
      " 0   transactionId  1197 non-null   int64         \n",
      " 1   visitorId      1197 non-null   int64         \n",
      " 2   date           1197 non-null   datetime64[ns]\n",
      " 3   revenue        1197 non-null   int64         \n",
      " 4   group          1197 non-null   object        \n",
      "dtypes: datetime64[ns](1), int64(3), object(1)\n",
      "memory usage: 46.9+ KB\n",
      "<class 'pandas.core.frame.DataFrame'>\n",
      "RangeIndex: 62 entries, 0 to 61\n",
      "Data columns (total 3 columns):\n",
      " #   Column    Non-Null Count  Dtype         \n",
      "---  ------    --------------  -----         \n",
      " 0   date      62 non-null     datetime64[ns]\n",
      " 1   group     62 non-null     object        \n",
      " 2   visitors  62 non-null     int64         \n",
      "dtypes: datetime64[ns](1), int64(1), object(1)\n",
      "memory usage: 1.6+ KB\n"
     ]
    }
   ],
   "source": [
    "# Приведем названия колонку к единому стилю\n",
    "hypothesis.columns = hypothesis.columns.str.lower()\n",
    "\n",
    "# Приведем в формат даты колонку date таблиц orders и visitors\n",
    "orders['date'] = pd.to_datetime(orders['date'], format='%Y-%m-%d')\n",
    "visitors['date'] = pd.to_datetime(visitors['date'], format='%Y-%m-%d')\n",
    "\n",
    "hypothesis.info()\n",
    "orders.info()\n",
    "visitors.info()"
   ]
  },
  {
   "cell_type": "markdown",
   "metadata": {},
   "source": [
    "***Промежуточный вывод:***\n",
    "\n",
    "Данные обработаны и подготовлены к дальнейшему анализу."
   ]
  },
  {
   "cell_type": "code",
   "execution_count": 5,
   "metadata": {},
   "outputs": [
    {
     "name": "stdout",
     "output_type": "stream",
     "text": [
      "Количество пользователей в обеих группах: 58\n"
     ]
    },
    {
     "data": {
      "text/html": [
       "<div>\n",
       "<style scoped>\n",
       "    .dataframe tbody tr th:only-of-type {\n",
       "        vertical-align: middle;\n",
       "    }\n",
       "\n",
       "    .dataframe tbody tr th {\n",
       "        vertical-align: top;\n",
       "    }\n",
       "\n",
       "    .dataframe thead th {\n",
       "        text-align: right;\n",
       "    }\n",
       "</style>\n",
       "<table border=\"1\" class=\"dataframe\">\n",
       "  <thead>\n",
       "    <tr style=\"text-align: right;\">\n",
       "      <th></th>\n",
       "      <th>group</th>\n",
       "    </tr>\n",
       "    <tr>\n",
       "      <th>visitorId</th>\n",
       "      <th></th>\n",
       "    </tr>\n",
       "  </thead>\n",
       "  <tbody>\n",
       "    <tr>\n",
       "      <th>8300375</th>\n",
       "      <td>2</td>\n",
       "    </tr>\n",
       "    <tr>\n",
       "      <th>199603092</th>\n",
       "      <td>2</td>\n",
       "    </tr>\n",
       "    <tr>\n",
       "      <th>232979603</th>\n",
       "      <td>2</td>\n",
       "    </tr>\n",
       "    <tr>\n",
       "      <th>237748145</th>\n",
       "      <td>2</td>\n",
       "    </tr>\n",
       "    <tr>\n",
       "      <th>276558944</th>\n",
       "      <td>2</td>\n",
       "    </tr>\n",
       "    <tr>\n",
       "      <th>351125977</th>\n",
       "      <td>2</td>\n",
       "    </tr>\n",
       "    <tr>\n",
       "      <th>393266494</th>\n",
       "      <td>2</td>\n",
       "    </tr>\n",
       "    <tr>\n",
       "      <th>457167155</th>\n",
       "      <td>2</td>\n",
       "    </tr>\n",
       "    <tr>\n",
       "      <th>471551937</th>\n",
       "      <td>2</td>\n",
       "    </tr>\n",
       "    <tr>\n",
       "      <th>477780734</th>\n",
       "      <td>2</td>\n",
       "    </tr>\n",
       "    <tr>\n",
       "      <th>818047933</th>\n",
       "      <td>2</td>\n",
       "    </tr>\n",
       "    <tr>\n",
       "      <th>963407295</th>\n",
       "      <td>2</td>\n",
       "    </tr>\n",
       "    <tr>\n",
       "      <th>1230306981</th>\n",
       "      <td>2</td>\n",
       "    </tr>\n",
       "    <tr>\n",
       "      <th>1294878855</th>\n",
       "      <td>2</td>\n",
       "    </tr>\n",
       "    <tr>\n",
       "      <th>1316129916</th>\n",
       "      <td>2</td>\n",
       "    </tr>\n",
       "    <tr>\n",
       "      <th>1333886533</th>\n",
       "      <td>2</td>\n",
       "    </tr>\n",
       "    <tr>\n",
       "      <th>1404934699</th>\n",
       "      <td>2</td>\n",
       "    </tr>\n",
       "    <tr>\n",
       "      <th>1602967004</th>\n",
       "      <td>2</td>\n",
       "    </tr>\n",
       "    <tr>\n",
       "      <th>1614305549</th>\n",
       "      <td>2</td>\n",
       "    </tr>\n",
       "    <tr>\n",
       "      <th>1648269707</th>\n",
       "      <td>2</td>\n",
       "    </tr>\n",
       "    <tr>\n",
       "      <th>1668030113</th>\n",
       "      <td>2</td>\n",
       "    </tr>\n",
       "    <tr>\n",
       "      <th>1738359350</th>\n",
       "      <td>2</td>\n",
       "    </tr>\n",
       "    <tr>\n",
       "      <th>1801183820</th>\n",
       "      <td>2</td>\n",
       "    </tr>\n",
       "    <tr>\n",
       "      <th>1959144690</th>\n",
       "      <td>2</td>\n",
       "    </tr>\n",
       "    <tr>\n",
       "      <th>2038680547</th>\n",
       "      <td>2</td>\n",
       "    </tr>\n",
       "    <tr>\n",
       "      <th>2044997962</th>\n",
       "      <td>2</td>\n",
       "    </tr>\n",
       "    <tr>\n",
       "      <th>2378935119</th>\n",
       "      <td>2</td>\n",
       "    </tr>\n",
       "    <tr>\n",
       "      <th>2458001652</th>\n",
       "      <td>2</td>\n",
       "    </tr>\n",
       "    <tr>\n",
       "      <th>2579882178</th>\n",
       "      <td>2</td>\n",
       "    </tr>\n",
       "    <tr>\n",
       "      <th>2587333274</th>\n",
       "      <td>2</td>\n",
       "    </tr>\n",
       "    <tr>\n",
       "      <th>2600415354</th>\n",
       "      <td>2</td>\n",
       "    </tr>\n",
       "    <tr>\n",
       "      <th>2654030115</th>\n",
       "      <td>2</td>\n",
       "    </tr>\n",
       "    <tr>\n",
       "      <th>2686716486</th>\n",
       "      <td>2</td>\n",
       "    </tr>\n",
       "    <tr>\n",
       "      <th>2712142231</th>\n",
       "      <td>2</td>\n",
       "    </tr>\n",
       "    <tr>\n",
       "      <th>2716752286</th>\n",
       "      <td>2</td>\n",
       "    </tr>\n",
       "    <tr>\n",
       "      <th>2780786433</th>\n",
       "      <td>2</td>\n",
       "    </tr>\n",
       "    <tr>\n",
       "      <th>2927087541</th>\n",
       "      <td>2</td>\n",
       "    </tr>\n",
       "    <tr>\n",
       "      <th>2949041841</th>\n",
       "      <td>2</td>\n",
       "    </tr>\n",
       "    <tr>\n",
       "      <th>2954449915</th>\n",
       "      <td>2</td>\n",
       "    </tr>\n",
       "    <tr>\n",
       "      <th>3062433592</th>\n",
       "      <td>2</td>\n",
       "    </tr>\n",
       "    <tr>\n",
       "      <th>3202540741</th>\n",
       "      <td>2</td>\n",
       "    </tr>\n",
       "    <tr>\n",
       "      <th>3234906277</th>\n",
       "      <td>2</td>\n",
       "    </tr>\n",
       "    <tr>\n",
       "      <th>3656415546</th>\n",
       "      <td>2</td>\n",
       "    </tr>\n",
       "    <tr>\n",
       "      <th>3717692402</th>\n",
       "      <td>2</td>\n",
       "    </tr>\n",
       "    <tr>\n",
       "      <th>3766097110</th>\n",
       "      <td>2</td>\n",
       "    </tr>\n",
       "    <tr>\n",
       "      <th>3803269165</th>\n",
       "      <td>2</td>\n",
       "    </tr>\n",
       "    <tr>\n",
       "      <th>3891541246</th>\n",
       "      <td>2</td>\n",
       "    </tr>\n",
       "    <tr>\n",
       "      <th>3941795274</th>\n",
       "      <td>2</td>\n",
       "    </tr>\n",
       "    <tr>\n",
       "      <th>3951559397</th>\n",
       "      <td>2</td>\n",
       "    </tr>\n",
       "    <tr>\n",
       "      <th>3957174400</th>\n",
       "      <td>2</td>\n",
       "    </tr>\n",
       "    <tr>\n",
       "      <th>3963646447</th>\n",
       "      <td>2</td>\n",
       "    </tr>\n",
       "    <tr>\n",
       "      <th>3972127743</th>\n",
       "      <td>2</td>\n",
       "    </tr>\n",
       "    <tr>\n",
       "      <th>3984495233</th>\n",
       "      <td>2</td>\n",
       "    </tr>\n",
       "    <tr>\n",
       "      <th>4069496402</th>\n",
       "      <td>2</td>\n",
       "    </tr>\n",
       "    <tr>\n",
       "      <th>4120364173</th>\n",
       "      <td>2</td>\n",
       "    </tr>\n",
       "    <tr>\n",
       "      <th>4186807279</th>\n",
       "      <td>2</td>\n",
       "    </tr>\n",
       "    <tr>\n",
       "      <th>4256040402</th>\n",
       "      <td>2</td>\n",
       "    </tr>\n",
       "    <tr>\n",
       "      <th>4266935830</th>\n",
       "      <td>2</td>\n",
       "    </tr>\n",
       "  </tbody>\n",
       "</table>\n",
       "</div>"
      ],
      "text/plain": [
       "            group\n",
       "visitorId        \n",
       "8300375         2\n",
       "199603092       2\n",
       "232979603       2\n",
       "237748145       2\n",
       "276558944       2\n",
       "351125977       2\n",
       "393266494       2\n",
       "457167155       2\n",
       "471551937       2\n",
       "477780734       2\n",
       "818047933       2\n",
       "963407295       2\n",
       "1230306981      2\n",
       "1294878855      2\n",
       "1316129916      2\n",
       "1333886533      2\n",
       "1404934699      2\n",
       "1602967004      2\n",
       "1614305549      2\n",
       "1648269707      2\n",
       "1668030113      2\n",
       "1738359350      2\n",
       "1801183820      2\n",
       "1959144690      2\n",
       "2038680547      2\n",
       "2044997962      2\n",
       "2378935119      2\n",
       "2458001652      2\n",
       "2579882178      2\n",
       "2587333274      2\n",
       "2600415354      2\n",
       "2654030115      2\n",
       "2686716486      2\n",
       "2712142231      2\n",
       "2716752286      2\n",
       "2780786433      2\n",
       "2927087541      2\n",
       "2949041841      2\n",
       "2954449915      2\n",
       "3062433592      2\n",
       "3202540741      2\n",
       "3234906277      2\n",
       "3656415546      2\n",
       "3717692402      2\n",
       "3766097110      2\n",
       "3803269165      2\n",
       "3891541246      2\n",
       "3941795274      2\n",
       "3951559397      2\n",
       "3957174400      2\n",
       "3963646447      2\n",
       "3972127743      2\n",
       "3984495233      2\n",
       "4069496402      2\n",
       "4120364173      2\n",
       "4186807279      2\n",
       "4256040402      2\n",
       "4266935830      2"
      ]
     },
     "metadata": {},
     "output_type": "display_data"
    }
   ],
   "source": [
    "\n",
    "# Находим всех пользователей, которые попали в обе группы\n",
    "grouped_users = orders.groupby('visitorId').agg({'group': 'nunique'}).query('group > 1')\n",
    "\n",
    "# Выводим количество таких пользователей\n",
    "print('Количество пользователей в обеих группах:', len(grouped_users))\n",
    "\n",
    "# Выводим идентификаторы таких пользователей:\n",
    "if len(grouped_users) > 0:\n",
    "    display(grouped_users)"
   ]
  },
  {
   "cell_type": "markdown",
   "metadata": {},
   "source": [
    "Количество пользователей в обеих группах: 58. \n",
    "Полностью исключим этих пользователей из дальнейшего анализа. Это уменьшит искажения в данных и сделает результаты более надежными."
   ]
  },
  {
   "cell_type": "code",
   "execution_count": 6,
   "metadata": {},
   "outputs": [],
   "source": [
    "# Создаем список ID пользователей, которые должны быть исключены\n",
    "abnormal_visitors = grouped_users.index\n",
    "\n",
    "# Фильтруем данные orders и visitors, исключая аномальных пользователей\n",
    "orders = orders[~orders['visitorId'].isin(abnormal_visitors)]"
   ]
  },
  {
   "cell_type": "markdown",
   "metadata": {},
   "source": [
    "#### Принятие решении в бизнесе на основе данных \n"
   ]
  },
  {
   "cell_type": "markdown",
   "metadata": {},
   "source": [
    "##### Приоритизация гипотез."
   ]
  },
  {
   "cell_type": "markdown",
   "metadata": {},
   "source": [
    "Чтобы приоритизировать гипотезы по увеличению выручки интернет-магазина с использованием фреймворка ICE, рассчитаем ICE (по формуле `Impact × Confidence / Efforts`) для каждой гипотезы и отсортируем гипотезы по убыванию значения ICE:"
   ]
  },
  {
   "cell_type": "code",
   "execution_count": 7,
   "metadata": {},
   "outputs": [
    {
     "data": {
      "text/html": [
       "<div>\n",
       "<style scoped>\n",
       "    .dataframe tbody tr th:only-of-type {\n",
       "        vertical-align: middle;\n",
       "    }\n",
       "\n",
       "    .dataframe tbody tr th {\n",
       "        vertical-align: top;\n",
       "    }\n",
       "\n",
       "    .dataframe thead th {\n",
       "        text-align: right;\n",
       "    }\n",
       "</style>\n",
       "<table border=\"1\" class=\"dataframe\">\n",
       "  <thead>\n",
       "    <tr style=\"text-align: right;\">\n",
       "      <th></th>\n",
       "      <th>hypothesis</th>\n",
       "      <th>ICE</th>\n",
       "    </tr>\n",
       "  </thead>\n",
       "  <tbody>\n",
       "    <tr>\n",
       "      <th>8</th>\n",
       "      <td>Запустить акцию, дающую скидку на товар в день рождения</td>\n",
       "      <td>16.200</td>\n",
       "    </tr>\n",
       "    <tr>\n",
       "      <th>0</th>\n",
       "      <td>Добавить два новых канала привлечения трафика, что позволит привлекать на 30% больше пользователей</td>\n",
       "      <td>13.333</td>\n",
       "    </tr>\n",
       "    <tr>\n",
       "      <th>7</th>\n",
       "      <td>Добавить форму подписки на все основные страницы, чтобы собрать базу клиентов для email-рассылок</td>\n",
       "      <td>11.200</td>\n",
       "    </tr>\n",
       "    <tr>\n",
       "      <th>6</th>\n",
       "      <td>Показать на главной странице баннеры с актуальными акциями и распродажами, чтобы увеличить конве...</td>\n",
       "      <td>8.000</td>\n",
       "    </tr>\n",
       "    <tr>\n",
       "      <th>2</th>\n",
       "      <td>Добавить блоки рекомендаций товаров на сайт интернет магазина, чтобы повысить конверсию и средни...</td>\n",
       "      <td>7.000</td>\n",
       "    </tr>\n",
       "    <tr>\n",
       "      <th>1</th>\n",
       "      <td>Запустить собственную службу доставки, что сократит срок доставки заказов</td>\n",
       "      <td>2.000</td>\n",
       "    </tr>\n",
       "    <tr>\n",
       "      <th>5</th>\n",
       "      <td>Добавить страницу отзывов клиентов о магазине, что позволит увеличить количество заказов</td>\n",
       "      <td>1.333</td>\n",
       "    </tr>\n",
       "    <tr>\n",
       "      <th>3</th>\n",
       "      <td>Изменить структура категорий, что увеличит конверсию, т.к. пользователи быстрее найдут нужный товар</td>\n",
       "      <td>1.125</td>\n",
       "    </tr>\n",
       "    <tr>\n",
       "      <th>4</th>\n",
       "      <td>Изменить цвет фона главной страницы, чтобы увеличить вовлеченность пользователей</td>\n",
       "      <td>1.000</td>\n",
       "    </tr>\n",
       "  </tbody>\n",
       "</table>\n",
       "</div>"
      ],
      "text/plain": [
       "                                                                                            hypothesis  \\\n",
       "8                                              Запустить акцию, дающую скидку на товар в день рождения   \n",
       "0   Добавить два новых канала привлечения трафика, что позволит привлекать на 30% больше пользователей   \n",
       "7     Добавить форму подписки на все основные страницы, чтобы собрать базу клиентов для email-рассылок   \n",
       "6  Показать на главной странице баннеры с актуальными акциями и распродажами, чтобы увеличить конве...   \n",
       "2  Добавить блоки рекомендаций товаров на сайт интернет магазина, чтобы повысить конверсию и средни...   \n",
       "1                            Запустить собственную службу доставки, что сократит срок доставки заказов   \n",
       "5             Добавить страницу отзывов клиентов о магазине, что позволит увеличить количество заказов   \n",
       "3  Изменить структура категорий, что увеличит конверсию, т.к. пользователи быстрее найдут нужный товар   \n",
       "4                     Изменить цвет фона главной страницы, чтобы увеличить вовлеченность пользователей   \n",
       "\n",
       "      ICE  \n",
       "8  16.200  \n",
       "0  13.333  \n",
       "7  11.200  \n",
       "6   8.000  \n",
       "2   7.000  \n",
       "1   2.000  \n",
       "5   1.333  \n",
       "3   1.125  \n",
       "4   1.000  "
      ]
     },
     "metadata": {},
     "output_type": "display_data"
    }
   ],
   "source": [
    "# Расчет ICE для каждой гипотезы\n",
    "hypothesis['ICE'] = ((hypothesis['impact'] * hypothesis['confidence']) / hypothesis['efforts']).round(3)\n",
    "\n",
    "# Сортировка гипотез по убыванию значения ICE\n",
    "hypothesis_sorted_ice = hypothesis.sort_values(by='ICE', ascending=False)\n",
    "\n",
    "# Вывод отсортированной таблицы\n",
    "display(hypothesis_sorted_ice[['hypothesis', 'ICE']])"
   ]
  },
  {
   "cell_type": "markdown",
   "metadata": {},
   "source": [
    "Приоритет имеет гипотеза о запуске акции, дающей скидку на товар в день рождения с показателем ICE 16.2, что указывает на высокое влияние и уверенность в эффективности при средних затратах на реализацию. Вторая по приоритету гипотеза - добавление новых каналов привлечения трафика, что также имеет значительный потенциальный воздействие на выручку."
   ]
  },
  {
   "cell_type": "markdown",
   "metadata": {},
   "source": [
    "Расчитаем RICE для оценки приоритетности гипотез, учитывая не только влияние, уверенность и затраты на проверку, но и охват аудитории (по формуле `Reach X Impact X Confidence / Effort`):"
   ]
  },
  {
   "cell_type": "code",
   "execution_count": 8,
   "metadata": {},
   "outputs": [
    {
     "data": {
      "text/html": [
       "<div>\n",
       "<style scoped>\n",
       "    .dataframe tbody tr th:only-of-type {\n",
       "        vertical-align: middle;\n",
       "    }\n",
       "\n",
       "    .dataframe tbody tr th {\n",
       "        vertical-align: top;\n",
       "    }\n",
       "\n",
       "    .dataframe thead th {\n",
       "        text-align: right;\n",
       "    }\n",
       "</style>\n",
       "<table border=\"1\" class=\"dataframe\">\n",
       "  <thead>\n",
       "    <tr style=\"text-align: right;\">\n",
       "      <th></th>\n",
       "      <th>hypothesis</th>\n",
       "      <th>RICE</th>\n",
       "    </tr>\n",
       "  </thead>\n",
       "  <tbody>\n",
       "    <tr>\n",
       "      <th>7</th>\n",
       "      <td>Добавить форму подписки на все основные страницы, чтобы собрать базу клиентов для email-рассылок</td>\n",
       "      <td>112.0</td>\n",
       "    </tr>\n",
       "    <tr>\n",
       "      <th>2</th>\n",
       "      <td>Добавить блоки рекомендаций товаров на сайт интернет магазина, чтобы повысить конверсию и средни...</td>\n",
       "      <td>56.0</td>\n",
       "    </tr>\n",
       "    <tr>\n",
       "      <th>0</th>\n",
       "      <td>Добавить два новых канала привлечения трафика, что позволит привлекать на 30% больше пользователей</td>\n",
       "      <td>40.0</td>\n",
       "    </tr>\n",
       "    <tr>\n",
       "      <th>6</th>\n",
       "      <td>Показать на главной странице баннеры с актуальными акциями и распродажами, чтобы увеличить конве...</td>\n",
       "      <td>40.0</td>\n",
       "    </tr>\n",
       "    <tr>\n",
       "      <th>8</th>\n",
       "      <td>Запустить акцию, дающую скидку на товар в день рождения</td>\n",
       "      <td>16.2</td>\n",
       "    </tr>\n",
       "    <tr>\n",
       "      <th>3</th>\n",
       "      <td>Изменить структура категорий, что увеличит конверсию, т.к. пользователи быстрее найдут нужный товар</td>\n",
       "      <td>9.0</td>\n",
       "    </tr>\n",
       "    <tr>\n",
       "      <th>1</th>\n",
       "      <td>Запустить собственную службу доставки, что сократит срок доставки заказов</td>\n",
       "      <td>4.0</td>\n",
       "    </tr>\n",
       "    <tr>\n",
       "      <th>5</th>\n",
       "      <td>Добавить страницу отзывов клиентов о магазине, что позволит увеличить количество заказов</td>\n",
       "      <td>4.0</td>\n",
       "    </tr>\n",
       "    <tr>\n",
       "      <th>4</th>\n",
       "      <td>Изменить цвет фона главной страницы, чтобы увеличить вовлеченность пользователей</td>\n",
       "      <td>3.0</td>\n",
       "    </tr>\n",
       "  </tbody>\n",
       "</table>\n",
       "</div>"
      ],
      "text/plain": [
       "                                                                                            hypothesis  \\\n",
       "7     Добавить форму подписки на все основные страницы, чтобы собрать базу клиентов для email-рассылок   \n",
       "2  Добавить блоки рекомендаций товаров на сайт интернет магазина, чтобы повысить конверсию и средни...   \n",
       "0   Добавить два новых канала привлечения трафика, что позволит привлекать на 30% больше пользователей   \n",
       "6  Показать на главной странице баннеры с актуальными акциями и распродажами, чтобы увеличить конве...   \n",
       "8                                              Запустить акцию, дающую скидку на товар в день рождения   \n",
       "3  Изменить структура категорий, что увеличит конверсию, т.к. пользователи быстрее найдут нужный товар   \n",
       "1                            Запустить собственную службу доставки, что сократит срок доставки заказов   \n",
       "5             Добавить страницу отзывов клиентов о магазине, что позволит увеличить количество заказов   \n",
       "4                     Изменить цвет фона главной страницы, чтобы увеличить вовлеченность пользователей   \n",
       "\n",
       "    RICE  \n",
       "7  112.0  \n",
       "2   56.0  \n",
       "0   40.0  \n",
       "6   40.0  \n",
       "8   16.2  \n",
       "3    9.0  \n",
       "1    4.0  \n",
       "5    4.0  \n",
       "4    3.0  "
      ]
     },
     "metadata": {},
     "output_type": "display_data"
    }
   ],
   "source": [
    "# Расчет RICE для каждой гипотезы \n",
    "hypothesis['RICE'] = (hypothesis['reach'] * hypothesis['impact'] * hypothesis['confidence']) / hypothesis['efforts']\n",
    "\n",
    "# Сортировка гипотез по убыванию значения RICE\n",
    "hypothesis_sorted_rice = hypothesis.sort_values(by='RICE', ascending=False)\n",
    "\n",
    "# Вывод отсортированной таблицы по столбцам hypothesis и RICE\n",
    "display(hypothesis_sorted_rice[['hypothesis', 'RICE']])"
   ]
  },
  {
   "cell_type": "markdown",
   "metadata": {},
   "source": [
    "Важные изменения в приоритизации:\n",
    "\n",
    "1. Гипотеза о добавлении формы подписки на все основные страницы (Гипотеза 7) переместилась с третьего места по ICE на первое место по RICE. Это произошло благодаря высокому охвату пользователей, что увеличило её приоритет при учёте RICE.\n",
    "\n",
    "2. Гипотеза о добавлении блоков рекомендаций товаров (Гипотеза 2) поднялась с пятого места на второе. Также благодаря высокому охвату этот параметр сильно повысил её значение RICE по сравнению с ICE.\n",
    "\n",
    "3. Гипотеза о запуске акции со скидками (Гипотеза 8), лидер по ICE, опустилась на пятое место по RICE. Несмотря на высокие оценки по воздействию и уверенности, ограниченный охват этой меры снизил её приоритетность в оценке RICE.\n",
    "\n",
    "4. Другие гипотезы также переместились в списке в зависимости от их охвата пользователей, что подтверждает важность учета этого параметра при планировании масштабных изменений, особенно в больших интернет-магазинах."
   ]
  },
  {
   "cell_type": "markdown",
   "metadata": {},
   "source": [
    "##### Анализ A/B-теста."
   ]
  },
  {
   "cell_type": "markdown",
   "metadata": {},
   "source": [
    "###### Построим график кумулятивной выручки по группам."
   ]
  },
  {
   "cell_type": "code",
   "execution_count": 9,
   "metadata": {},
   "outputs": [
    {
     "data": {
      "image/png": "[encoded data removed]",
      "text/plain": [
       "<Figure size 864x432 with 1 Axes>"
      ]
     },
     "metadata": {
      "needs_background": "light"
     },
     "output_type": "display_data"
    }
   ],
   "source": [
    "# Сначала агрегируем данные о заказах по дате и группе\n",
    "data_agg = orders.groupby(['date', 'group']).agg({'revenue': 'sum'}).reset_index()\n",
    "\n",
    "# Рассчитаем кумулятивную выручку\n",
    "data_agg['cumulative_revenue'] = data_agg.groupby('group')['revenue'].cumsum()\n",
    "\n",
    "# Разделим данные по группам для удобства построения\n",
    "group_a = data_agg[data_agg['group'] == 'A']\n",
    "group_b = data_agg[data_agg['group'] == 'B']\n",
    "\n",
    "# Построим график\n",
    "plt.figure(figsize=(12, 6))\n",
    "plt.plot(group_a['date'], group_a['cumulative_revenue'], label='Группа A')\n",
    "plt.plot(group_b['date'], group_b['cumulative_revenue'], label='Группа B')\n",
    "plt.title('График кумулятивной выручки по группам')\n",
    "plt.xlabel('Дата')\n",
    "plt.ylabel('Выручка')\n",
    "plt.legend()\n",
    "plt.xticks(rotation=45)\n",
    "plt.show()"
   ]
  },
  {
   "cell_type": "markdown",
   "metadata": {},
   "source": [
    "На графике видно, что до определенного момента (примерно 18 августа 2019 года) темпы роста выручки групп A и B были сопоставимы, с небольшим преимуществом у группы B. Однако после этой даты в группе B произошел заметный скачок выручки, который может указывать на внезапное увеличение количества заказов или на появление аномально дорогих заказов.\n",
    "\n",
    "Такой резкий всплеск в группе B потенциально может исказить результаты теста, так как существенно повышает общую выручку группы, что может не отражать реального улучшения пользовательского опыта или эффективности. Это подчеркивает необходимость дополнительного анализа данных на предмет выбросов или аномальных заказов, которые могли бы повлиять на результаты тестирования."
   ]
  },
  {
   "cell_type": "markdown",
   "metadata": {},
   "source": [
    "###### Построим график кумулятивного среднего чека по группам"
   ]
  },
  {
   "cell_type": "code",
   "execution_count": 10,
   "metadata": {},
   "outputs": [
    {
     "name": "stdout",
     "output_type": "stream",
     "text": [
      "        date group  revenue  orders  cumulative_revenue  cumulative_orders\n",
      "0 2019-08-01     A   142779      23              142779                 23\n",
      "1 2019-08-01     B    59758      17               59758                 17\n",
      "2 2019-08-02     A    91602      19              234381                 42\n",
      "3 2019-08-02     B   162043      23              221801                 40\n",
      "4 2019-08-03     A   112473      24              346854                 66\n"
     ]
    },
    {
     "data": {
      "image/png": "[encoded data removed]",
      "text/plain": [
       "<Figure size 864x432 with 1 Axes>"
      ]
     },
     "metadata": {
      "needs_background": "light"
     },
     "output_type": "display_data"
    }
   ],
   "source": [
    "# Агрегация данных по дате и группе\n",
    "data_agg = orders.groupby(['date', 'group']).agg(\n",
    "    revenue=('revenue', 'sum'),\n",
    "    orders=('transactionId', 'count')\n",
    ").reset_index()\n",
    "\n",
    "# Расчет кумулятивных сумм по выручке и заказам\n",
    "data_agg['cumulative_revenue'] = data_agg.groupby('group')['revenue'].cumsum()\n",
    "data_agg['cumulative_orders'] = data_agg.groupby('group')['orders'].cumsum()\n",
    "\n",
    "# Проверка что данные в столбцах добавились\n",
    "print(data_agg.head())\n",
    "\n",
    "# Расчет кумулятивного среднего чека\n",
    "data_agg['cumulative_avg_check'] = data_agg['cumulative_revenue'] / data_agg['cumulative_orders']\n",
    "\n",
    "# Разделение данных по группам для визуализации\n",
    "group_a = data_agg[data_agg['group'] == 'A']\n",
    "group_b = data_agg[data_agg['group'] == 'B']\n",
    "\n",
    "# Построение графика\n",
    "plt.figure(figsize=(12, 6))\n",
    "plt.plot(group_a['date'], group_a['cumulative_avg_check'], label='Группа A')\n",
    "plt.plot(group_b['date'], group_b['cumulative_avg_check'], label='Группа B')\n",
    "plt.title('График кумулятивного среднего чека по группам')\n",
    "plt.xlabel('Дата')\n",
    "plt.ylabel('Средний чек')\n",
    "plt.legend()\n",
    "plt.xticks(rotation=45)\n",
    "plt.show()"
   ]
  },
  {
   "cell_type": "markdown",
   "metadata": {},
   "source": [
    "В то время как средний чек в группе A в течение теста достиг стабильности, в группе B наблюдается значительный скачок, который может указывать на наличие аномальных значений в данных. Для принятия обоснованного решения на основании этой метрики потребуется дополнительный анализ для идентификации и исключения выбросов."
   ]
  },
  {
   "cell_type": "markdown",
   "metadata": {},
   "source": [
    "###### Построим график относительного изменения кумулятивного среднего чека группы B к группе A."
   ]
  },
  {
   "cell_type": "code",
   "execution_count": 11,
   "metadata": {},
   "outputs": [
    {
     "data": {
      "image/png": "[encoded data removed]",
      "text/plain": [
       "<Figure size 864x432 with 1 Axes>"
      ]
     },
     "metadata": {
      "needs_background": "light"
     },
     "output_type": "display_data"
    }
   ],
   "source": [
    "# Расчет кумулятивных данных по дням и группам\n",
    "orders_cumulative = orders.groupby(['date', 'group']).agg({'transactionId':'nunique', 'visitorId':'nunique', 'revenue':'sum'}).groupby('group').cumsum()\n",
    "orders_cumulative = orders_cumulative.reset_index()\n",
    "\n",
    "visitors_cumulative = visitors.groupby(['date', 'group']).agg({'visitors':'sum'}).groupby('group').cumsum()\n",
    "visitors_cumulative = visitors_cumulative.reset_index()\n",
    "\n",
    "# Объединение кумулятивных данных по заказам и посетителям\n",
    "cumulative_data = orders_cumulative.merge(visitors_cumulative, on=['date', 'group'])\n",
    "cumulative_data['average_check'] = cumulative_data['revenue'] / cumulative_data['transactionId']\n",
    "\n",
    "# Разделение данных по группам\n",
    "cumulative_data_A = cumulative_data[cumulative_data['group'] == 'A']\n",
    "cumulative_data_B = cumulative_data[cumulative_data['group'] == 'B']\n",
    "\n",
    "# Объединение данных по среднему чеку в один DataFrame\n",
    "merged_cumulative_checks = cumulative_data_A[['date', 'average_check']].merge(cumulative_data_B[['date', 'average_check']], on='date', suffixes=['_A', '_B'])\n",
    "\n",
    "# Расчет относительного изменения для среднего чека\n",
    "merged_cumulative_checks['relative_change'] = merged_cumulative_checks['average_check_B'] / merged_cumulative_checks['average_check_A'] - 1\n",
    "\n",
    "# Построение графика\n",
    "plt.figure(figsize=(12, 6))\n",
    "plt.plot(merged_cumulative_checks['date'], merged_cumulative_checks['relative_change'], label='Относительное изменение среднего чека B к A')\n",
    "plt.axhline(y=0, color='black', linestyle='--')\n",
    "plt.title('Относительное изменение кумулятивного среднего чека группы B к группе A')\n",
    "plt.xlabel('Дата')\n",
    "plt.ylabel('Относительное изменение')\n",
    "plt.legend()\n",
    "plt.show()"
   ]
  },
  {
   "cell_type": "markdown",
   "metadata": {},
   "source": [
    "В нескольких точках времени теста наблюдались значительные изменения в результатах. Вероятно, в эти моменты происходили аномально крупные заказы, которые искажали общую картину."
   ]
  },
  {
   "cell_type": "code",
   "execution_count": 12,
   "metadata": {},
   "outputs": [
    {
     "name": "stdout",
     "output_type": "stream",
     "text": [
      "count      143.000000\n",
      "mean      7512.979021\n",
      "std      11366.923413\n",
      "min         90.000000\n",
      "25%       1340.000000\n",
      "50%       3270.000000\n",
      "75%       7115.000000\n",
      "max      67990.000000\n",
      "Name: revenue, dtype: float64\n"
     ]
    },
    {
     "data": {
      "image/png": "[encoded data removed]",
      "text/plain": [
       "<Figure size 720x432 with 1 Axes>"
      ]
     },
     "metadata": {
      "needs_background": "light"
     },
     "output_type": "display_data"
    },
    {
     "name": "stdout",
     "output_type": "stream",
     "text": [
      "     transactionId   visitorId       date  revenue group\n",
      "743     3603576309  4133034833 2019-08-09    67990     A\n",
      "940     2420050534  4003628586 2019-08-08    58550     B\n",
      "613     4071177889  3931967268 2019-08-07    53904     B\n",
      "709      514501382   950626008 2019-08-07    45880     A\n",
      "420     2788225284  1606766439 2019-08-06    37550     B\n"
     ]
    }
   ],
   "source": [
    "# Интересующие даты\n",
    "dates_of_interest = ['2019-08-06', '2019-08-07', '2019-08-08', '2019-08-09']\n",
    "\n",
    "# Фильтруем данные для этих дат\n",
    "orders_on_dates = orders[orders['date'].isin(dates_of_interest)]\n",
    "\n",
    "# Смотрим распределение значений выручки\n",
    "print(orders_on_dates['revenue'].describe())\n",
    "\n",
    "# Визуализация распределения\n",
    "plt.figure(figsize=(10, 6))\n",
    "plt.hist(orders_on_dates['revenue'], bins=20, color='green', alpha=0.7)\n",
    "plt.title('Распределение выручки заказов за 8 и 9 мая')\n",
    "plt.xlabel('Выручка')\n",
    "plt.ylabel('Количество заказов')\n",
    "plt.grid(True)\n",
    "plt.show()\n",
    "\n",
    "# Анализируем детали заказов\n",
    "print(orders_on_dates.sort_values(by='revenue', ascending=False).head())\n"
   ]
  },
  {
   "cell_type": "markdown",
   "metadata": {},
   "source": [
    "Медианная выручка (3270 рублей) остаётся намного ниже средней, что подчеркивает наличие нескольких очень крупных заказов, влияющих на среднее значение.\n",
    "Максимальный заказ составил 67990 рублей, что существенно исказило данные.\n",
    "Заказ на 67990 рублей (группа A, 9 августа) и заказ на 58550 рублей (группа B, 8 августа) могут сильно влиять на анализ кумулятивных данных. Эти значения заметно выделяются на фоне других и потенциально искажают результаты теста."
   ]
  },
  {
   "cell_type": "markdown",
   "metadata": {},
   "source": [
    "###### Построим график кумулятивного среднего количества заказов на посетителя по группам."
   ]
  },
  {
   "cell_type": "code",
   "execution_count": 13,
   "metadata": {},
   "outputs": [
    {
     "data": {
      "image/png": "[encoded data removed]",
      "text/plain": [
       "<Figure size 864x432 with 1 Axes>"
      ]
     },
     "metadata": {
      "needs_background": "light"
     },
     "output_type": "display_data"
    }
   ],
   "source": [
    "# Агрегация данных по заказам по дате и группе\n",
    "orders_daily = orders.groupby(['date', 'group']).agg(\n",
    "    orders=('transactionId', 'count')\n",
    ").reset_index()\n",
    "\n",
    "# Агрегация данных по посетителям по дате и группе\n",
    "visitors_daily = visitors.groupby(['date', 'group']).agg(\n",
    "    visitors=('visitors', 'sum')\n",
    ").reset_index()\n",
    "\n",
    "# Объединение данных по заказам и посетителям\n",
    "data_agg = pd.merge(orders_daily, visitors_daily, on=['date', 'group'])\n",
    "\n",
    "# Расчет кумулятивных данных\n",
    "data_agg['cumulative_orders'] = data_agg.groupby('group')['orders'].cumsum()\n",
    "data_agg['cumulative_visitors'] = data_agg.groupby('group')['visitors'].cumsum()\n",
    "\n",
    "# Расчет кумулятивной конверсии\n",
    "data_agg['cumulative_conversion'] = data_agg['cumulative_orders'] / data_agg['cumulative_visitors']\n",
    "\n",
    "# Разделение данных по группам для визуализации\n",
    "group_a = data_agg[data_agg['group'] == 'A']\n",
    "group_b = data_agg[data_agg['group'] == 'B']\n",
    "\n",
    "# Построение графика кумулятивной конверсии\n",
    "plt.figure(figsize=(12, 6))\n",
    "plt.plot(group_a['date'], group_a['cumulative_conversion'], label='Группа A')\n",
    "plt.plot(group_b['date'], group_b['cumulative_conversion'], label='Группа B')\n",
    "plt.title('График кумулятивного среднего количества заказов на посетителя по группам')\n",
    "plt.xlabel('Дата')\n",
    "plt.ylabel('Кол-во заказов на посетителя')\n",
    "plt.legend()\n",
    "plt.xticks(rotation=45)\n",
    "plt.grid(True)\n",
    "plt.show()"
   ]
  },
  {
   "cell_type": "markdown",
   "metadata": {},
   "source": [
    "Группа A начала тест с более высокой средним количеством заказов на посетителя по сравнению с группой B, но со временем её показатели ухудшились. В то же время, группа B, начав с более низких значений, постепенно выровняла свои показатели и стабилизировала их на уровне, который превышает показатели группы A."
   ]
  },
  {
   "cell_type": "markdown",
   "metadata": {},
   "source": [
    "###### Построим график относительного изменения кумулятивного среднего количества заказов на посетителя группы B к группе A."
   ]
  },
  {
   "cell_type": "code",
   "execution_count": 14,
   "metadata": {},
   "outputs": [
    {
     "data": {
      "image/png": "[encoded data removed]",
      "text/plain": [
       "<Figure size 864x432 with 1 Axes>"
      ]
     },
     "metadata": {
      "needs_background": "light"
     },
     "output_type": "display_data"
    }
   ],
   "source": [
    "# Слияние данных по группам A и B по дате\n",
    "merged_data = pd.merge(group_a[['date', 'cumulative_conversion']], group_b[['date', 'cumulative_conversion']],\n",
    "                       on='date', suffixes=['_A', '_B'])\n",
    "\n",
    "# Расчет относительного изменения конверсии\n",
    "merged_data['relative_change'] = merged_data['cumulative_conversion_B'] / merged_data['cumulative_conversion_A'] - 1\n",
    "\n",
    "# Построение графика относительного изменения кумулятивной конверсии\n",
    "plt.figure(figsize=(12, 6))\n",
    "plt.plot(merged_data['date'], merged_data['relative_change'])\n",
    "plt.title('Относительное изменение кумулятивного среднего количества заказов на посетителя группы B к группе A')\n",
    "plt.axhline(y=0, color='black', linestyle='--')\n",
    "plt.axhline(y=0.15, color='red', linestyle='--')\n",
    "plt.xlabel('Дата')\n",
    "plt.ylabel('Относительное изменение')\n",
    "plt.xticks(rotation=45)\n",
    "plt.grid(True)\n",
    "plt.show()"
   ]
  },
  {
   "cell_type": "markdown",
   "metadata": {},
   "source": [
    "В начале теста наблюдаются колебания в данных, но с течением времени группа B стабильно превосходит группу A по количеству заказов."
   ]
  },
  {
   "cell_type": "markdown",
   "metadata": {},
   "source": [
    "###### Построим  точечный график количества заказов по пользователям."
   ]
  },
  {
   "cell_type": "code",
   "execution_count": 15,
   "metadata": {},
   "outputs": [
    {
     "name": "stdout",
     "output_type": "stream",
     "text": [
      "Распределение количества заказов по пользователям:\n"
     ]
    },
    {
     "data": {
      "text/html": [
       "<div>\n",
       "<style scoped>\n",
       "    .dataframe tbody tr th:only-of-type {\n",
       "        vertical-align: middle;\n",
       "    }\n",
       "\n",
       "    .dataframe tbody tr th {\n",
       "        vertical-align: top;\n",
       "    }\n",
       "\n",
       "    .dataframe thead th {\n",
       "        text-align: right;\n",
       "    }\n",
       "</style>\n",
       "<table border=\"1\" class=\"dataframe\">\n",
       "  <thead>\n",
       "    <tr style=\"text-align: right;\">\n",
       "      <th></th>\n",
       "      <th>orders</th>\n",
       "      <th>numberOfUsers</th>\n",
       "    </tr>\n",
       "  </thead>\n",
       "  <tbody>\n",
       "    <tr>\n",
       "      <th>0</th>\n",
       "      <td>1</td>\n",
       "      <td>937</td>\n",
       "    </tr>\n",
       "    <tr>\n",
       "      <th>1</th>\n",
       "      <td>2</td>\n",
       "      <td>29</td>\n",
       "    </tr>\n",
       "    <tr>\n",
       "      <th>2</th>\n",
       "      <td>3</td>\n",
       "      <td>7</td>\n",
       "    </tr>\n",
       "  </tbody>\n",
       "</table>\n",
       "</div>"
      ],
      "text/plain": [
       "   orders  numberOfUsers\n",
       "0       1            937\n",
       "1       2             29\n",
       "2       3              7"
      ]
     },
     "metadata": {},
     "output_type": "display_data"
    },
    {
     "data": {
      "image/png": "[encoded data removed]",
      "text/plain": [
       "<Figure size 720x360 with 1 Axes>"
      ]
     },
     "metadata": {
      "needs_background": "light"
     },
     "output_type": "display_data"
    }
   ],
   "source": [
    "# Сгруппируем данные по ID пользователей и подсчитаем количество заказов\n",
    "orders_by_users = orders.groupby('visitorId', as_index=False).agg({'transactionId': pd.Series.nunique})\n",
    "\n",
    "# Переименуем колонки для удобства\n",
    "orders_by_users.columns = ['userId', 'orders']\n",
    "\n",
    "# Группируем пользователей по количеству заказов и подсчитываем количество пользователей в каждой группе\n",
    "orders_distribution = orders_by_users.groupby('orders', as_index=False).agg({'userId': 'count'})\n",
    "\n",
    "# Переименуем колонки для лучшего понимания\n",
    "orders_distribution.columns = ['orders', 'numberOfUsers']\n",
    "\n",
    "# Выводим результат\n",
    "print(\"Распределение количества заказов по пользователям:\")\n",
    "display(orders_distribution)\n",
    "\n",
    "# Построим точечный график количества заказов по пользователям\n",
    "plt.figure(figsize=(10, 5))\n",
    "plt.scatter(orders_by_users['userId'], orders_by_users['orders'], alpha=0.5)\n",
    "plt.title('Точечный график количества заказов по пользователям')\n",
    "plt.xlabel('ID пользователя')\n",
    "plt.ylabel('Количество заказов')\n",
    "plt.grid(True)\n",
    "plt.show()"
   ]
  },
  {
   "cell_type": "markdown",
   "metadata": {},
   "source": [
    "Большинство пользователей (937 из 1031) сделали всего один заказ. Количество пользователей, делающих два заказа и более, значительно уменьшается с увеличением количества заказов. Так, только 64 пользователя сделали по два заказа, и всего 30 пользователей сделали более двух заказов.\n",
    "\n",
    "Наличие небольшого числа пользователей с очень высоким количеством заказов (например, 8, 9, и 11 заказов) может указывать на наличие выбросов, которые могут искажать общую картину и анализ эффективности теста. "
   ]
  },
  {
   "cell_type": "markdown",
   "metadata": {},
   "source": [
    "###### Посчитаем 95-й и 99-й перцентили количества заказов на пользователя."
   ]
  },
  {
   "cell_type": "code",
   "execution_count": 16,
   "metadata": {},
   "outputs": [
    {
     "name": "stdout",
     "output_type": "stream",
     "text": [
      "[1. 1. 2.]\n"
     ]
    }
   ],
   "source": [
    "print(np.percentile(orders_by_users['orders'], [90, 95, 99]))"
   ]
  },
  {
   "cell_type": "markdown",
   "metadata": {},
   "source": [
    "В ходе тестирования, более чем у 5% пользователей наблюдалось две покупки, в то время как только у 1% было две или более покупок. Определим верхнюю границу нормального количества заказов как два на пользователя."
   ]
  },
  {
   "cell_type": "markdown",
   "metadata": {},
   "source": [
    "###### Построим  точечный график стоимостей заказов."
   ]
  },
  {
   "cell_type": "code",
   "execution_count": 17,
   "metadata": {},
   "outputs": [
    {
     "data": {
      "image/png": "[encoded data removed]",
      "text/plain": [
       "<Figure size 720x432 with 1 Axes>"
      ]
     },
     "metadata": {
      "needs_background": "light"
     },
     "output_type": "display_data"
    },
    {
     "data": {
      "image/png": "[encoded data removed]",
      "text/plain": [
       "<Figure size 720x432 with 1 Axes>"
      ]
     },
     "metadata": {
      "needs_background": "light"
     },
     "output_type": "display_data"
    }
   ],
   "source": [
    "plt.figure(figsize=(10, 6))\n",
    "plt.scatter(x=range(orders.shape[0]), y=orders['revenue'], alpha=0.5)\n",
    "plt.title('Точечный график стоимостей заказов')\n",
    "plt.xlabel('Индекс заказа')\n",
    "plt.ylabel('Стоимость заказа')\n",
    "plt.show()\n",
    "\n",
    "plt.figure(figsize=(10, 6))\n",
    "plt.scatter(x=range(orders.shape[0]), y=orders['revenue'], alpha=0.5)\n",
    "plt.title('Точечный график стоимостей заказов без выбросов')\n",
    "plt.xlabel('Индекс заказа')\n",
    "plt.ylabel('Стоимость заказа')\n",
    "plt.ylim([0, 100000])  \n",
    "plt.show()"
   ]
  },
  {
   "cell_type": "markdown",
   "metadata": {},
   "source": [
    "Видно 2 отчетливых выброса. Посмотрим на информацию о стоимостях заказов"
   ]
  },
  {
   "cell_type": "code",
   "execution_count": 18,
   "metadata": {},
   "outputs": [
    {
     "name": "stdout",
     "output_type": "stream",
     "text": [
      "[17990. 26785. 53904.]\n"
     ]
    }
   ],
   "source": [
    "print(np.percentile(orders['revenue'], [90, 95, 99]))"
   ]
  },
  {
   "cell_type": "code",
   "execution_count": 19,
   "metadata": {},
   "outputs": [
    {
     "data": {
      "text/plain": [
       "count    1.016000e+03\n",
       "mean     8.300815e+03\n",
       "std      4.212199e+04\n",
       "min      5.000000e+01\n",
       "5%       3.000000e+02\n",
       "50%      2.955000e+03\n",
       "90%      1.799000e+04\n",
       "95%      2.678500e+04\n",
       "99%      5.390400e+04\n",
       "max      1.294500e+06\n",
       "Name: revenue, dtype: float64"
      ]
     },
     "metadata": {},
     "output_type": "display_data"
    },
    {
     "data": {
      "image/png": "[encoded data removed]",
      "text/plain": [
       "<Figure size 720x432 with 1 Axes>"
      ]
     },
     "metadata": {
      "needs_background": "light"
     },
     "output_type": "display_data"
    }
   ],
   "source": [
    "display(orders['revenue'].describe(percentiles=[0.05, 0.50, 0.90, 0.95, 0.99]))\n",
    "\n",
    "# Строим гистограмму для стоимости заказов\n",
    "plt.figure(figsize=(10, 6))\n",
    "plt.hist(orders['revenue'], bins=50, color='blue', edgecolor='black')\n",
    "plt.title('Распределение стоимостей заказов')\n",
    "plt.xlabel('Стоимость заказа')\n",
    "plt.ylabel('Количество заказов')\n",
    "plt.show()"
   ]
  },
  {
   "cell_type": "markdown",
   "metadata": {},
   "source": [
    "Средняя стоимость заказа составляет около 8,348 рублей, что может быть повышено из-за наличия очень дорогих заказов, как видно из стандартного отклонения в 39,191 рублей и максимального значения в 1,294,500 рублей.\n",
    "На уровне 95-го перцентиля стоимость заказа составляет 27,000 рублей - будет границей для определения аномальных заказов, а 99-й перцентиль на уровне 54,000 рублей показывает, что только 1% заказов превышает эту сумму."
   ]
  },
  {
   "cell_type": "markdown",
   "metadata": {},
   "source": [
    "###### Посчитаем статистическую значимость различий в среднем количестве заказов на посетителя между группами по «сырым» данным."
   ]
  },
  {
   "cell_type": "markdown",
   "metadata": {},
   "source": [
    "Объявим нулевую и альтернативные гипотезы: \n",
    "\n",
    "**H0** = cтатистически значимых различий в среднем количестве заказов между группами нет.\n",
    "\n",
    "**H1** = cтатистически значимые различия в среднем количестве заказов между группами есть.\n",
    "\n",
    "Применим тест Манна-Уитни, который позволяет сравнивать две независимые выборки.\n",
    "\n",
    "Alpha = 0.05"
   ]
  },
  {
   "cell_type": "code",
   "execution_count": 20,
   "metadata": {},
   "outputs": [
    {
     "name": "stdout",
     "output_type": "stream",
     "text": [
      "p-value: 0.011018084110014696\n",
      "Среднее количество заказов в группе A: 0.025\n",
      "Среднее количество заказов в группе B: 0.029\n",
      "Относительное различие между группами:  0.160\n",
      "Отвергаем нулевую гипотезу: существуют статистически значимые различия между группами.\n"
     ]
    }
   ],
   "source": [
    "# Подсчет количества заказов на пользователя в каждой группе\n",
    "orders_by_users_a = orders[orders['group'] == 'A'].groupby('visitorId', as_index=False).agg({'transactionId': pd.Series.nunique})\n",
    "orders_by_users_a.columns = ['userId', 'orders']\n",
    "\n",
    "orders_by_users_b = orders[orders['group'] == 'B'].groupby('visitorId', as_index=False).agg({'transactionId': pd.Series.nunique})\n",
    "orders_by_users_b.columns = ['userId', 'orders']\n",
    "\n",
    "# Подготовка данных о посетителях для каждой группы\n",
    "visitors_daily_a = visitors[visitors['group'] == 'A']\n",
    "visitors_daily_b = visitors[visitors['group'] == 'B']\n",
    "\n",
    "# Создание выборок\n",
    "sample_a = pd.concat([orders_by_users_a['orders'], pd.Series(0, index=np.arange(visitors_daily_a['visitors'].sum() - len(orders_by_users_a)), name='orders')], axis=0)\n",
    "sample_b = pd.concat([orders_by_users_b['orders'], pd.Series(0, index=np.arange(visitors_daily_b['visitors'].sum() - len(orders_by_users_b)), name='orders')], axis=0)\n",
    "\n",
    "# Применяем тест Манна-Уитни\n",
    "results = mannwhitneyu(sample_a, sample_b)\n",
    "print('p-value:', results.pvalue)\n",
    "\n",
    "# Средние значения\n",
    "print(\"Среднее количество заказов в группе A:\", '{0:.3f}'.format(sample_a.mean()))\n",
    "print(\"Среднее количество заказов в группе B:\", '{0:.3f}'.format(sample_b.mean()))\n",
    "\n",
    "# Относительное различие между группами:\n",
    "print(\"Относительное различие между группами: \", '{0:.3f}'.format(sample_b.mean()/sample_a.mean() - 1))\n",
    "\n",
    "# Определение статуса нулевой гипотезы\n",
    "if results.pvalue < 0.05:\n",
    "    print(\"Отвергаем нулевую гипотезу: существуют статистически значимые различия между группами.\")\n",
    "else:\n",
    "    print(\"Принимаем нулевую гипотезу: статистически значимых различий между группами нет.\")"
   ]
  },
  {
   "cell_type": "markdown",
   "metadata": {},
   "source": [
    "P-value составляет около 0.011, что меньше стандартного порога значимости в 0.05. Это позволяет нам отвергнуть нулевую гипотезу о том, что в среднем количество заказов на посетителя в группах А и В одинаково. Статистический тест показывает, что различия между группами являются значимыми.\n",
    "\n",
    "Среднее количество заказов в группе B (около 0.029) выше, чем в группе A (около 0.025). Это указывает на то, что участники из группы B в среднем совершают больше заказов, чем участники из группы A. Этот результат может свидетельствовать о том, что изменения, тестировавшиеся в группе B, могли положительно повлиять на конверсию и активность пользователей."
   ]
  },
  {
   "cell_type": "markdown",
   "metadata": {},
   "source": [
    "###### Посчитаем статистическую значимость различий в среднем чеке заказа (конверсия) между группами по «сырым» данным."
   ]
  },
  {
   "cell_type": "markdown",
   "metadata": {},
   "source": [
    "Объявим нулевую и альтернативные гипотезы: \n",
    "\n",
    "**H0** = cтатистически значимых различий в среднем чеке между группами нет.\n",
    "\n",
    "**H1** = cтатистически значимых различий в среднем чеке между группами есть.\n",
    "\n",
    "Применим тест Манна-Уитни, который позволяет сравнивать две независимые выборки.\n"
   ]
  },
  {
   "cell_type": "code",
   "execution_count": 21,
   "metadata": {},
   "outputs": [
    {
     "name": "stdout",
     "output_type": "stream",
     "text": [
      "p-value: 0.8294908998149533\n",
      "Средний чек группы A: 7189.4358974358975\n",
      "Средний чек группы B: 9249.94890510949\n",
      "Относительное различие между группами:  0.287\n",
      "Принимаем нулевую гипотезу: статистически значимых различий в среднем чеке между группами нет.\n"
     ]
    }
   ],
   "source": [
    "# Группировка данных по группам и вычисление среднего чека\n",
    "orders_a = orders[orders['group'] == 'A']['revenue']\n",
    "orders_b = orders[orders['group'] == 'B']['revenue']\n",
    "\n",
    "# Применение теста Манна-Уитни\n",
    "results = stats.mannwhitneyu(orders_a, orders_b, alternative='two-sided')\n",
    "\n",
    "print(\"p-value:\", results.pvalue)\n",
    "print(\"Средний чек группы A:\", orders_a.mean())\n",
    "print(\"Средний чек группы B:\", orders_b.mean())\n",
    "\n",
    "# Относительное различие между группами:\n",
    "print(\"Относительное различие между группами: \", '{0:.3f}'.format(orders_b.mean()/orders_a.mean() - 1))\n",
    "\n",
    "# Определение статуса нулевой гипотезы\n",
    "if results.pvalue < 0.05:\n",
    "    print(\"Отвергаем нулевую гипотезу: существуют статистически значимые различия в среднем чеке между группами.\")\n",
    "else:\n",
    "    print(\"Принимаем нулевую гипотезу: статистически значимых различий в среднем чеке между группами нет.\")"
   ]
  },
  {
   "cell_type": "markdown",
   "metadata": {},
   "source": [
    "Несмотря на то что средний чек в группе B выше, чем в группе A, статистически значимых различий между группами не обнаружено (p-value значительно выше 0.05). Это указывает на то, что различия в среднем чеке могут быть случайными."
   ]
  },
  {
   "cell_type": "markdown",
   "metadata": {},
   "source": [
    "###### Посчитаем статистическую значимость различий в среднем количестве заказов на посетителя между группами по «очищенным» данным."
   ]
  },
  {
   "cell_type": "markdown",
   "metadata": {},
   "source": [
    "Объявим нулевую и альтернативные гипотезы: \n",
    "\n",
    "**H0** = cтатистически значимых различий в среднем чеке между группами нет.\n",
    "\n",
    "**H1** = cтатистически значимых различий в среднем чеке между группами есть.\n",
    "\n",
    "Применим тест Манна-Уитни, который позволяет сравнивать две независимые выборки.\n"
   ]
  },
  {
   "cell_type": "code",
   "execution_count": 22,
   "metadata": {},
   "outputs": [
    {
     "name": "stdout",
     "output_type": "stream",
     "text": [
      "Относительное различие между группами:  0.173\n",
      "p-value: 0.016200908573143418\n",
      "Отвергаем нулевую гипотезу: есть статистически значимые различия в среднем количестве заказов на посетителя между группами.\n",
      "Количество аномальных пользователей: 86\n"
     ]
    }
   ],
   "source": [
    "# Определение аномальных пользователей по стоимости заказов\n",
    "users_with_expensive_orders = orders[orders['revenue'] > np.percentile(orders['revenue'], 95)]['visitorId'].unique()\n",
    "\n",
    "# Определение аномальных пользователей по количеству заказов\n",
    "users_with_many_orders = orders.groupby('visitorId').filter(lambda x: len(x) > np.percentile(orders_by_users['orders'], 95))['visitorId'].unique()\n",
    "\n",
    "# Объединение массивов пользователей\n",
    "abnormal_users = np.union1d(users_with_expensive_orders, users_with_many_orders)\n",
    "\n",
    "# Отфильтруем заказы, исключая аномальных пользователей\n",
    "filtered_orders = orders[~orders['visitorId'].isin(abnormal_users)]\n",
    "\n",
    "# Подготовка данных для теста\n",
    "orders_by_users_a = filtered_orders[filtered_orders['group'] == 'A'].groupby('visitorId', as_index=False).agg({'transactionId': pd.Series.nunique})\n",
    "orders_by_users_b = filtered_orders[filtered_orders['group'] == 'B'].groupby('visitorId', as_index=False).agg({'transactionId': pd.Series.nunique})\n",
    "\n",
    "# Создаем выборки, где каждый посетитель группы встречается столько раз, сколько у него заказов\n",
    "sample_a = pd.concat([orders_by_users_a['transactionId'], pd.Series(0, index=np.arange(visitors[visitors['group'] == 'A']['visitors'].sum() - len(orders_by_users_a['transactionId'])), name='transactionId')], axis=0)\n",
    "sample_b = pd.concat([orders_by_users_b['transactionId'], pd.Series(0, index=np.arange(visitors[visitors['group'] == 'B']['visitors'].sum() - len(orders_by_users_b['transactionId'])), name='transactionId')], axis=0)\n",
    "\n",
    "# Относительное различие между группами:\n",
    "print(\"Относительное различие между группами: \", '{0:.3f}'.format(sample_b.mean()/sample_a.mean() - 1))\n",
    "\n",
    "# Тест Манна-Уитни\n",
    "results = stats.mannwhitneyu(sample_a, sample_b, alternative='two-sided')\n",
    "print(\"p-value:\", results.pvalue)\n",
    "\n",
    "# Интерпретация результатов\n",
    "alpha = 0.05  # Уровень значимости\n",
    "if results.pvalue < alpha:\n",
    "    print(\"Отвергаем нулевую гипотезу: есть статистически значимые различия в среднем количестве заказов на посетителя между группами.\")\n",
    "else:\n",
    "    print(\"Принимаем нулевую гипотезу: статистически значимых различий в среднем количестве заказов на посетителя между группами нет.\")\n",
    "\n",
    "# Подсчет количества аномальных пользователей\n",
    "number_of_abnormal_users = len(abnormal_users)\n",
    "print(\"Количество аномальных пользователей:\", number_of_abnormal_users)"
   ]
  },
  {
   "cell_type": "markdown",
   "metadata": {},
   "source": [
    "Между группами A и B существуют статистически значимые различия в среднем количестве заказов на посетителя."
   ]
  },
  {
   "cell_type": "markdown",
   "metadata": {},
   "source": [
    "###### Посчитаем статистическую значимость различий в среднем чеке заказа между группами по «очищенным» данным."
   ]
  },
  {
   "cell_type": "markdown",
   "metadata": {},
   "source": [
    "Объявим нулевую и альтернативные гипотезы: \n",
    "\n",
    "**H0** = cтатистически значимых различий в среднем чеке заказа между группами нет.\n",
    "\n",
    "**H1** = cтатистически значимых различий в среднем чеке заказа между группами есть.\n",
    "\n",
    "Применим тест Манна-Уитни, который позволяет сравнивать две независимые выборки.\n"
   ]
  },
  {
   "cell_type": "code",
   "execution_count": 23,
   "metadata": {},
   "outputs": [
    {
     "name": "stdout",
     "output_type": "stream",
     "text": [
      "p-value: 0.7271286894009963\n",
      "Средний чек группы A: 5046.490147783251\n",
      "Средний чек группы B: 4876.251559251559\n",
      "Относительное различие между группами:  -0.034\n",
      "Принимаем нулевую гипотезу: статистически значимых различий в среднем чеке на посетителя между группами нет.\n"
     ]
    }
   ],
   "source": [
    "# Условия для идентификации аномальных заказов\n",
    "\n",
    "# Определение аномальных пользователей\n",
    "#abnormal_users = orders[(orders['revenue'] > revenue_limit) | (orders.groupby('visitorId').transform('count')['transactionId'] > orders_limit)]['visitorId'].unique()\n",
    "\n",
    "# Фильтрация данных\n",
    "# filtered_orders = orders[~orders['visitorId'].isin(abnormal_users)]\n",
    "\n",
    "# Разделение данных по группам\n",
    "filtered_orders_a = filtered_orders[filtered_orders['group'] == 'A']['revenue']\n",
    "filtered_orders_b = filtered_orders[filtered_orders['group'] == 'B']['revenue']\n",
    "\n",
    "# Применение теста Манна-Уитни\n",
    "results = mannwhitneyu(filtered_orders_a, filtered_orders_b, alternative='two-sided')\n",
    "\n",
    "print(\"p-value:\", results.pvalue)\n",
    "print(\"Средний чек группы A:\", filtered_orders_a.mean())\n",
    "print(\"Средний чек группы B:\", filtered_orders_b.mean())\n",
    "\n",
    "# Относительное различие между группами:\n",
    "print(\"Относительное различие между группами: \", '{0:.3f}'.format(filtered_orders_b.mean()/filtered_orders_a.mean() - 1))\n",
    "\n",
    "# Интерпретация результатов\n",
    "alpha = 0.05  # Уровень значимости\n",
    "if results.pvalue < alpha:\n",
    "    print(\"Отвергаем нулевую гипотезу: есть статистически значимые различия в среднем чеке на посетителя между группами.\")\n",
    "else:\n",
    "    print(\"Принимаем нулевую гипотезу: статистически значимых различий в среднем чеке на посетителя между группами нет.\")\n"
   ]
  },
  {
   "cell_type": "markdown",
   "metadata": {},
   "source": [
    "Статистически значимых различий в среднем чеке между группами A и B не обнаружено. Средние чеки групп оказались практически одинаковыми"
   ]
  },
  {
   "cell_type": "markdown",
   "metadata": {},
   "source": [
    "#### Общие выводы"
   ]
  },
  {
   "cell_type": "markdown",
   "metadata": {},
   "source": [
    "**Предобработка данных**\n",
    "\n",
    "Перед началом теста была проведена предобработка данных, включающая проверку на пропуски, дубликаты. Пропуски и дубликаты не обнаружены. Привели в формат даты колонку 'date' таблиц orders и visitors.\n",
    "Удалены пользователи, оказавшиеся одновременно в двух группах в таблице orders.\n",
    "\n",
    "**Приоритезация гипотез**\n",
    "\n",
    "Из предложенных маркетинговым отделом гипотез для улучшения работы интернет-магазина, особое внимание было уделено следующим:\n",
    "\n",
    "- \"Запустить акцию, дающую скидку на товар в день рождения\",\n",
    "- \"Добавить два новых канала привлечения трафика, что позволит привлекать на 30% больше пользователей\",\n",
    "- \"Добавить форму подписки на все основные страницы, чтобы собрать базу клиентов для email-рассылок\".\n",
    "\n",
    "\n",
    "С учетом охвата аудитории, приоритеты были расставлены следующим образом:\n",
    "\n",
    "- \"Добавить форму подписки на все основные страницы, чтобы собрать базу клиентов для email-рассылок\",\n",
    "- \"Добавить блоки рекомендаций товаров на сайт интернет магазина, чтобы повысить средний чек заказа\",\n",
    "- \"Добавить два новых канала привлечения трафика, что позволит привлекать на 30% больше пользователей\".\n",
    "\n",
    "\n",
    "\n",
    "**Процесс A/B-тестирования**\n",
    "\n",
    "A/B-тест был организован с целью проверки выбранных гипотез. Участники были разделены на две группы: контрольную (A) и тестовую (B). В ходе теста мы собрали данные о конверсии и среднем чеке в обеих группах, как в исходном виде, так и после очистки от аномалий.\n",
    "\n",
    "**Анализ результатов**\n",
    "\n",
    "- Среднее количество заказов на пользователя: Обнаружено статистически значимое увеличение в группе B по сравнению с группой A как по \"сырым\", так и по \"очищенным\" данным.\n",
    "\n",
    "\n",
    "- Средний чек: Не было обнаружено статистически значимых различий в среднем чеке между группами, при этом средний чек группы B на \"очищенных\" данных выше на примерно 2%.\n",
    "\n",
    "- График относительных изменений: Показывает, что показатели группы B стабильно превосходят показатели группы A.\n",
    "\n",
    "**Рекомендации по результатам теста**\n",
    "\n",
    "Основываясь на данных анализа, рекомендуется остановить тест и признать победу группы B. Внедрение изменений, протестированных в группе B, в регулярную практику рекомендуется из-за увеличения конверсии при неизменном среднем чеке, что приведет к увеличению общей выручки."
   ]
  },
  {
   "cell_type": "code",
   "execution_count": null,
   "metadata": {},
   "outputs": [],
   "source": []
  },
  {
   "cell_type": "code",
   "execution_count": null,
   "metadata": {},
   "outputs": [],
   "source": []
  }
 ],
 "metadata": {
  "ExecuteTimeLog": [
   {
    "duration": 1508,
    "start_time": "2024-05-07T06:12:09.313Z"
   },
   {
    "duration": 228,
    "start_time": "2024-05-07T06:12:22.960Z"
   },
   {
    "duration": 62,
    "start_time": "2024-05-07T06:13:55.886Z"
   },
   {
    "duration": 70,
    "start_time": "2024-05-07T06:14:23.142Z"
   },
   {
    "duration": 76,
    "start_time": "2024-05-07T06:14:33.361Z"
   },
   {
    "duration": 54,
    "start_time": "2024-05-07T06:14:52.415Z"
   },
   {
    "duration": 54,
    "start_time": "2024-05-07T06:15:02.935Z"
   },
   {
    "duration": 29,
    "start_time": "2024-05-07T06:16:03.600Z"
   },
   {
    "duration": 17,
    "start_time": "2024-05-07T06:17:03.588Z"
   },
   {
    "duration": 4,
    "start_time": "2024-05-07T06:17:44.350Z"
   },
   {
    "duration": 13,
    "start_time": "2024-05-07T06:19:14.935Z"
   },
   {
    "duration": 12,
    "start_time": "2024-05-07T06:20:12.223Z"
   },
   {
    "duration": 355,
    "start_time": "2024-05-07T06:21:18.123Z"
   },
   {
    "duration": 248,
    "start_time": "2024-05-07T06:22:32.412Z"
   },
   {
    "duration": 427,
    "start_time": "2024-05-07T06:23:41.298Z"
   },
   {
    "duration": 206,
    "start_time": "2024-05-07T06:24:07.798Z"
   },
   {
    "duration": 269,
    "start_time": "2024-05-07T06:24:54.950Z"
   },
   {
    "duration": 48,
    "start_time": "2024-05-07T06:25:08.552Z"
   },
   {
    "duration": 345,
    "start_time": "2024-05-07T06:25:40.211Z"
   },
   {
    "duration": 375,
    "start_time": "2024-05-07T06:26:18.324Z"
   },
   {
    "duration": 4,
    "start_time": "2024-05-07T06:27:08.516Z"
   },
   {
    "duration": 409,
    "start_time": "2024-05-07T06:27:56.088Z"
   },
   {
    "duration": 233,
    "start_time": "2024-05-07T06:28:40.925Z"
   },
   {
    "duration": 164,
    "start_time": "2024-05-07T06:29:53.120Z"
   },
   {
    "duration": 11,
    "start_time": "2024-05-07T06:31:17.988Z"
   },
   {
    "duration": 168,
    "start_time": "2024-05-07T06:32:25.049Z"
   },
   {
    "duration": 15,
    "start_time": "2024-05-07T06:33:17.279Z"
   },
   {
    "duration": 1322,
    "start_time": "2024-05-07T06:43:22.518Z"
   },
   {
    "duration": 230,
    "start_time": "2024-05-07T06:43:23.842Z"
   },
   {
    "duration": 50,
    "start_time": "2024-05-07T06:43:24.074Z"
   },
   {
    "duration": 25,
    "start_time": "2024-05-07T06:43:24.125Z"
   },
   {
    "duration": 31,
    "start_time": "2024-05-07T06:43:24.152Z"
   },
   {
    "duration": 16,
    "start_time": "2024-05-07T06:43:24.185Z"
   },
   {
    "duration": 23,
    "start_time": "2024-05-07T06:43:24.202Z"
   },
   {
    "duration": 16,
    "start_time": "2024-05-07T06:43:24.226Z"
   },
   {
    "duration": 298,
    "start_time": "2024-05-07T06:43:24.243Z"
   },
   {
    "duration": 244,
    "start_time": "2024-05-07T06:43:24.542Z"
   },
   {
    "duration": 393,
    "start_time": "2024-05-07T06:43:24.788Z"
   },
   {
    "duration": 196,
    "start_time": "2024-05-07T06:43:25.183Z"
   },
   {
    "duration": 256,
    "start_time": "2024-05-07T06:43:25.380Z"
   },
   {
    "duration": 289,
    "start_time": "2024-05-07T06:43:25.638Z"
   },
   {
    "duration": 284,
    "start_time": "2024-05-07T06:43:25.929Z"
   },
   {
    "duration": 4,
    "start_time": "2024-05-07T06:43:26.214Z"
   },
   {
    "duration": 384,
    "start_time": "2024-05-07T06:43:26.219Z"
   },
   {
    "duration": 200,
    "start_time": "2024-05-07T06:43:26.604Z"
   },
   {
    "duration": 155,
    "start_time": "2024-05-07T06:43:26.806Z"
   },
   {
    "duration": 9,
    "start_time": "2024-05-07T06:43:26.963Z"
   },
   {
    "duration": 205,
    "start_time": "2024-05-07T06:43:26.973Z"
   },
   {
    "duration": 18,
    "start_time": "2024-05-07T06:43:27.180Z"
   },
   {
    "duration": 8,
    "start_time": "2024-05-07T06:50:38.788Z"
   },
   {
    "duration": 346,
    "start_time": "2024-05-07T07:25:30.312Z"
   },
   {
    "duration": 16,
    "start_time": "2024-05-07T07:30:59.724Z"
   },
   {
    "duration": 19,
    "start_time": "2024-05-07T07:32:12.873Z"
   },
   {
    "duration": 5,
    "start_time": "2024-05-07T08:05:10.939Z"
   },
   {
    "duration": 1023,
    "start_time": "2024-05-07T08:06:47.957Z"
   },
   {
    "duration": 5,
    "start_time": "2024-05-07T08:07:09.587Z"
   },
   {
    "duration": 10,
    "start_time": "2024-05-07T08:10:45.090Z"
   },
   {
    "duration": 8,
    "start_time": "2024-05-07T08:11:09.524Z"
   },
   {
    "duration": 7,
    "start_time": "2024-05-07T08:11:29.638Z"
   },
   {
    "duration": 118,
    "start_time": "2024-05-07T08:11:53.012Z"
   },
   {
    "duration": 5,
    "start_time": "2024-05-07T08:12:14.152Z"
   },
   {
    "duration": 4,
    "start_time": "2024-05-07T08:12:34.085Z"
   },
   {
    "duration": 8,
    "start_time": "2024-05-07T08:12:51.461Z"
   },
   {
    "duration": 48,
    "start_time": "2024-05-07T08:13:12.378Z"
   },
   {
    "duration": 54,
    "start_time": "2024-05-07T08:13:19.412Z"
   },
   {
    "duration": 7,
    "start_time": "2024-05-07T08:13:23.001Z"
   },
   {
    "duration": 58,
    "start_time": "2024-05-07T08:13:27.358Z"
   },
   {
    "duration": 114,
    "start_time": "2024-05-07T08:13:47.749Z"
   },
   {
    "duration": 1160,
    "start_time": "2024-05-07T08:40:59.658Z"
   },
   {
    "duration": 76,
    "start_time": "2024-05-07T08:41:00.820Z"
   },
   {
    "duration": 203,
    "start_time": "2024-05-07T08:41:00.899Z"
   },
   {
    "duration": 107,
    "start_time": "2024-05-07T08:41:01.103Z"
   },
   {
    "duration": 92,
    "start_time": "2024-05-07T08:41:01.212Z"
   },
   {
    "duration": 117,
    "start_time": "2024-05-07T08:41:01.305Z"
   },
   {
    "duration": 89,
    "start_time": "2024-05-07T08:41:01.424Z"
   },
   {
    "duration": 106,
    "start_time": "2024-05-07T08:41:01.514Z"
   },
   {
    "duration": 422,
    "start_time": "2024-05-07T08:41:01.622Z"
   },
   {
    "duration": 236,
    "start_time": "2024-05-07T08:41:02.046Z"
   },
   {
    "duration": 449,
    "start_time": "2024-05-07T08:41:02.284Z"
   },
   {
    "duration": 204,
    "start_time": "2024-05-07T08:41:02.735Z"
   },
   {
    "duration": 279,
    "start_time": "2024-05-07T08:41:02.941Z"
   },
   {
    "duration": 339,
    "start_time": "2024-05-07T08:41:03.222Z"
   },
   {
    "duration": 313,
    "start_time": "2024-05-07T08:41:03.563Z"
   },
   {
    "duration": 5,
    "start_time": "2024-05-07T08:41:03.877Z"
   },
   {
    "duration": 390,
    "start_time": "2024-05-07T08:41:03.884Z"
   },
   {
    "duration": 4,
    "start_time": "2024-05-07T08:41:04.275Z"
   },
   {
    "duration": 232,
    "start_time": "2024-05-07T08:41:04.281Z"
   },
   {
    "duration": 165,
    "start_time": "2024-05-07T08:41:04.515Z"
   },
   {
    "duration": 18,
    "start_time": "2024-05-07T08:41:04.682Z"
   },
   {
    "duration": 141,
    "start_time": "2024-05-07T08:41:04.702Z"
   },
   {
    "duration": 13,
    "start_time": "2024-05-07T08:41:04.844Z"
   },
   {
    "duration": 1190,
    "start_time": "2024-05-07T08:48:41.632Z"
   },
   {
    "duration": 77,
    "start_time": "2024-05-07T08:48:42.824Z"
   },
   {
    "duration": 60,
    "start_time": "2024-05-07T08:48:42.903Z"
   },
   {
    "duration": 41,
    "start_time": "2024-05-07T08:48:42.965Z"
   },
   {
    "duration": 15,
    "start_time": "2024-05-07T08:48:43.007Z"
   },
   {
    "duration": 16,
    "start_time": "2024-05-07T08:48:43.024Z"
   },
   {
    "duration": 36,
    "start_time": "2024-05-07T08:48:43.041Z"
   },
   {
    "duration": 37,
    "start_time": "2024-05-07T08:48:43.079Z"
   },
   {
    "duration": 358,
    "start_time": "2024-05-07T08:48:43.118Z"
   },
   {
    "duration": 267,
    "start_time": "2024-05-07T08:48:43.479Z"
   },
   {
    "duration": 373,
    "start_time": "2024-05-07T08:48:43.748Z"
   },
   {
    "duration": 197,
    "start_time": "2024-05-07T08:48:44.123Z"
   },
   {
    "duration": 252,
    "start_time": "2024-05-07T08:48:44.322Z"
   },
   {
    "duration": 338,
    "start_time": "2024-05-07T08:48:44.575Z"
   },
   {
    "duration": 337,
    "start_time": "2024-05-07T08:48:44.914Z"
   },
   {
    "duration": 5,
    "start_time": "2024-05-07T08:48:45.253Z"
   },
   {
    "duration": 399,
    "start_time": "2024-05-07T08:48:45.259Z"
   },
   {
    "duration": 5,
    "start_time": "2024-05-07T08:48:45.660Z"
   },
   {
    "duration": 222,
    "start_time": "2024-05-07T08:48:45.666Z"
   },
   {
    "duration": 153,
    "start_time": "2024-05-07T08:48:45.894Z"
   },
   {
    "duration": 10,
    "start_time": "2024-05-07T08:48:46.049Z"
   },
   {
    "duration": 139,
    "start_time": "2024-05-07T08:48:46.061Z"
   },
   {
    "duration": 10,
    "start_time": "2024-05-07T08:48:46.201Z"
   },
   {
    "duration": 11,
    "start_time": "2024-05-07T11:17:10.704Z"
   },
   {
    "duration": 46,
    "start_time": "2024-05-07T11:17:49.614Z"
   },
   {
    "duration": 10,
    "start_time": "2024-05-07T11:20:25.352Z"
   },
   {
    "duration": 10,
    "start_time": "2024-05-07T11:20:53.177Z"
   },
   {
    "duration": 11,
    "start_time": "2024-05-07T11:23:16.899Z"
   },
   {
    "duration": 10,
    "start_time": "2024-05-07T11:24:17.111Z"
   },
   {
    "duration": 10,
    "start_time": "2024-05-07T11:24:40.602Z"
   },
   {
    "duration": 12,
    "start_time": "2024-05-07T11:26:03.389Z"
   },
   {
    "duration": 1340,
    "start_time": "2024-05-07T11:26:38.824Z"
   },
   {
    "duration": 222,
    "start_time": "2024-05-07T11:26:40.166Z"
   },
   {
    "duration": 56,
    "start_time": "2024-05-07T11:26:40.390Z"
   },
   {
    "duration": 38,
    "start_time": "2024-05-07T11:26:40.448Z"
   },
   {
    "duration": 20,
    "start_time": "2024-05-07T11:26:40.488Z"
   },
   {
    "duration": 5,
    "start_time": "2024-05-07T11:26:40.509Z"
   },
   {
    "duration": 16,
    "start_time": "2024-05-07T11:26:40.516Z"
   },
   {
    "duration": 13,
    "start_time": "2024-05-07T11:26:40.556Z"
   },
   {
    "duration": 333,
    "start_time": "2024-05-07T11:26:40.571Z"
   },
   {
    "duration": 229,
    "start_time": "2024-05-07T11:26:40.907Z"
   },
   {
    "duration": 391,
    "start_time": "2024-05-07T11:26:41.139Z"
   },
   {
    "duration": 188,
    "start_time": "2024-05-07T11:26:41.532Z"
   },
   {
    "duration": 268,
    "start_time": "2024-05-07T11:26:41.722Z"
   },
   {
    "duration": 319,
    "start_time": "2024-05-07T11:26:41.992Z"
   },
   {
    "duration": 290,
    "start_time": "2024-05-07T11:26:42.313Z"
   },
   {
    "duration": 5,
    "start_time": "2024-05-07T11:26:42.606Z"
   },
   {
    "duration": 415,
    "start_time": "2024-05-07T11:26:42.612Z"
   },
   {
    "duration": 5,
    "start_time": "2024-05-07T11:26:43.029Z"
   },
   {
    "duration": 240,
    "start_time": "2024-05-07T11:26:43.035Z"
   },
   {
    "duration": 174,
    "start_time": "2024-05-07T11:26:43.276Z"
   },
   {
    "duration": 13,
    "start_time": "2024-05-07T11:26:43.452Z"
   },
   {
    "duration": 204,
    "start_time": "2024-05-07T11:26:43.467Z"
   },
   {
    "duration": 20,
    "start_time": "2024-05-07T11:26:43.673Z"
   },
   {
    "duration": 168,
    "start_time": "2024-05-07T11:27:07.926Z"
   },
   {
    "duration": 229,
    "start_time": "2024-05-07T11:43:38.779Z"
   },
   {
    "duration": 844,
    "start_time": "2024-05-07T11:46:10.654Z"
   },
   {
    "duration": 885,
    "start_time": "2024-05-07T11:46:45.314Z"
   },
   {
    "duration": 255,
    "start_time": "2024-05-07T11:47:35.190Z"
   },
   {
    "duration": 130,
    "start_time": "2024-05-07T11:57:19.172Z"
   },
   {
    "duration": 244,
    "start_time": "2024-05-07T12:04:32.685Z"
   },
   {
    "duration": 13,
    "start_time": "2024-05-07T12:09:21.242Z"
   },
   {
    "duration": 46,
    "start_time": "2024-05-07T12:18:09.769Z"
   },
   {
    "duration": 48,
    "start_time": "2024-05-07T12:18:26.333Z"
   },
   {
    "duration": 150,
    "start_time": "2024-05-07T12:18:43.983Z"
   },
   {
    "duration": 147,
    "start_time": "2024-05-07T12:20:34.374Z"
   },
   {
    "duration": 142,
    "start_time": "2024-05-07T12:20:53.275Z"
   },
   {
    "duration": 191,
    "start_time": "2024-05-07T12:21:42.265Z"
   },
   {
    "duration": 11,
    "start_time": "2024-05-07T12:23:56.492Z"
   },
   {
    "duration": 168,
    "start_time": "2024-05-07T12:25:08.944Z"
   },
   {
    "duration": 14,
    "start_time": "2024-05-07T12:26:13.856Z"
   },
   {
    "duration": 1280,
    "start_time": "2024-05-07T12:31:50.863Z"
   },
   {
    "duration": 74,
    "start_time": "2024-05-07T12:31:52.145Z"
   },
   {
    "duration": 56,
    "start_time": "2024-05-07T12:31:52.221Z"
   },
   {
    "duration": 30,
    "start_time": "2024-05-07T12:31:52.279Z"
   },
   {
    "duration": 16,
    "start_time": "2024-05-07T12:31:52.312Z"
   },
   {
    "duration": 28,
    "start_time": "2024-05-07T12:31:52.330Z"
   },
   {
    "duration": 26,
    "start_time": "2024-05-07T12:31:52.360Z"
   },
   {
    "duration": 37,
    "start_time": "2024-05-07T12:31:52.388Z"
   },
   {
    "duration": 345,
    "start_time": "2024-05-07T12:31:52.427Z"
   },
   {
    "duration": 269,
    "start_time": "2024-05-07T12:31:52.774Z"
   },
   {
    "duration": 391,
    "start_time": "2024-05-07T12:31:53.045Z"
   },
   {
    "duration": 221,
    "start_time": "2024-05-07T12:31:53.438Z"
   },
   {
    "duration": 278,
    "start_time": "2024-05-07T12:31:53.660Z"
   },
   {
    "duration": 362,
    "start_time": "2024-05-07T12:31:53.942Z"
   },
   {
    "duration": 321,
    "start_time": "2024-05-07T12:31:54.306Z"
   },
   {
    "duration": 5,
    "start_time": "2024-05-07T12:31:54.629Z"
   },
   {
    "duration": 418,
    "start_time": "2024-05-07T12:31:54.637Z"
   },
   {
    "duration": 5,
    "start_time": "2024-05-07T12:31:55.056Z"
   },
   {
    "duration": 237,
    "start_time": "2024-05-07T12:31:55.063Z"
   },
   {
    "duration": 167,
    "start_time": "2024-05-07T12:31:55.302Z"
   },
   {
    "duration": 12,
    "start_time": "2024-05-07T12:31:55.480Z"
   },
   {
    "duration": 178,
    "start_time": "2024-05-07T12:31:55.493Z"
   },
   {
    "duration": 11,
    "start_time": "2024-05-07T12:31:55.680Z"
   },
   {
    "duration": 13,
    "start_time": "2024-05-07T13:06:40.681Z"
   },
   {
    "duration": 325,
    "start_time": "2024-05-07T13:09:14.232Z"
   },
   {
    "duration": 5,
    "start_time": "2024-05-07T13:10:57.347Z"
   },
   {
    "duration": 5,
    "start_time": "2024-05-07T13:11:14.117Z"
   },
   {
    "duration": 5,
    "start_time": "2024-05-07T13:11:37.416Z"
   },
   {
    "duration": 5,
    "start_time": "2024-05-07T13:12:25.789Z"
   },
   {
    "duration": 5,
    "start_time": "2024-05-07T13:13:10.047Z"
   },
   {
    "duration": 5,
    "start_time": "2024-05-07T13:13:58.085Z"
   },
   {
    "duration": 1194,
    "start_time": "2024-05-07T13:25:35.334Z"
   },
   {
    "duration": 75,
    "start_time": "2024-05-07T13:25:36.531Z"
   },
   {
    "duration": 58,
    "start_time": "2024-05-07T13:25:36.607Z"
   },
   {
    "duration": 32,
    "start_time": "2024-05-07T13:25:36.668Z"
   },
   {
    "duration": 16,
    "start_time": "2024-05-07T13:25:36.703Z"
   },
   {
    "duration": 9,
    "start_time": "2024-05-07T13:25:36.721Z"
   },
   {
    "duration": 31,
    "start_time": "2024-05-07T13:25:36.731Z"
   },
   {
    "duration": 26,
    "start_time": "2024-05-07T13:25:36.763Z"
   },
   {
    "duration": 325,
    "start_time": "2024-05-07T13:25:36.790Z"
   },
   {
    "duration": 277,
    "start_time": "2024-05-07T13:25:37.117Z"
   },
   {
    "duration": 363,
    "start_time": "2024-05-07T13:25:37.396Z"
   },
   {
    "duration": 213,
    "start_time": "2024-05-07T13:25:37.761Z"
   },
   {
    "duration": 275,
    "start_time": "2024-05-07T13:25:37.976Z"
   },
   {
    "duration": 105,
    "start_time": "2024-05-07T13:25:38.254Z"
   },
   {
    "duration": 0,
    "start_time": "2024-05-07T13:25:38.361Z"
   },
   {
    "duration": 0,
    "start_time": "2024-05-07T13:25:38.362Z"
   },
   {
    "duration": 0,
    "start_time": "2024-05-07T13:25:38.363Z"
   },
   {
    "duration": 0,
    "start_time": "2024-05-07T13:25:38.364Z"
   },
   {
    "duration": 0,
    "start_time": "2024-05-07T13:25:38.365Z"
   },
   {
    "duration": 0,
    "start_time": "2024-05-07T13:25:38.381Z"
   },
   {
    "duration": 0,
    "start_time": "2024-05-07T13:25:38.381Z"
   },
   {
    "duration": 0,
    "start_time": "2024-05-07T13:25:38.382Z"
   },
   {
    "duration": 0,
    "start_time": "2024-05-07T13:25:38.384Z"
   },
   {
    "duration": 0,
    "start_time": "2024-05-07T13:25:38.385Z"
   },
   {
    "duration": 0,
    "start_time": "2024-05-07T13:25:38.386Z"
   },
   {
    "duration": 0,
    "start_time": "2024-05-07T13:25:38.387Z"
   },
   {
    "duration": 320,
    "start_time": "2024-05-07T13:27:22.425Z"
   },
   {
    "duration": 1210,
    "start_time": "2024-05-07T13:27:35.016Z"
   },
   {
    "duration": 75,
    "start_time": "2024-05-07T13:27:36.228Z"
   },
   {
    "duration": 68,
    "start_time": "2024-05-07T13:27:36.305Z"
   },
   {
    "duration": 30,
    "start_time": "2024-05-07T13:27:36.375Z"
   },
   {
    "duration": 17,
    "start_time": "2024-05-07T13:27:36.407Z"
   },
   {
    "duration": 5,
    "start_time": "2024-05-07T13:27:36.426Z"
   },
   {
    "duration": 12,
    "start_time": "2024-05-07T13:27:36.433Z"
   },
   {
    "duration": 38,
    "start_time": "2024-05-07T13:27:36.447Z"
   },
   {
    "duration": 348,
    "start_time": "2024-05-07T13:27:36.486Z"
   },
   {
    "duration": 257,
    "start_time": "2024-05-07T13:27:36.835Z"
   },
   {
    "duration": 360,
    "start_time": "2024-05-07T13:27:37.094Z"
   },
   {
    "duration": 206,
    "start_time": "2024-05-07T13:27:37.456Z"
   },
   {
    "duration": 295,
    "start_time": "2024-05-07T13:27:37.664Z"
   },
   {
    "duration": 361,
    "start_time": "2024-05-07T13:27:37.962Z"
   },
   {
    "duration": 327,
    "start_time": "2024-05-07T13:27:38.325Z"
   },
   {
    "duration": 5,
    "start_time": "2024-05-07T13:27:38.654Z"
   },
   {
    "duration": 420,
    "start_time": "2024-05-07T13:27:38.661Z"
   },
   {
    "duration": 4,
    "start_time": "2024-05-07T13:27:39.083Z"
   },
   {
    "duration": 228,
    "start_time": "2024-05-07T13:27:39.089Z"
   },
   {
    "duration": 181,
    "start_time": "2024-05-07T13:27:39.319Z"
   },
   {
    "duration": 15,
    "start_time": "2024-05-07T13:27:39.502Z"
   },
   {
    "duration": 367,
    "start_time": "2024-05-07T13:27:39.519Z"
   },
   {
    "duration": 12,
    "start_time": "2024-05-07T13:27:39.888Z"
   }
  ],
  "kernelspec": {
   "display_name": "Python 3 (ipykernel)",
   "language": "python",
   "name": "python3"
  },
  "language_info": {
   "codemirror_mode": {
    "name": "ipython",
    "version": 3
   },
   "file_extension": ".py",
   "mimetype": "text/x-python",
   "name": "python",
   "nbconvert_exporter": "python",
   "pygments_lexer": "ipython3",
   "version": "3.9.5"
  },
  "toc": {
   "base_numbering": 1,
   "nav_menu": {},
   "number_sections": true,
   "sideBar": true,
   "skip_h1_title": true,
   "title_cell": "Table of Contents",
   "title_sidebar": "Contents",
   "toc_cell": false,
   "toc_position": {},
   "toc_section_display": true,
   "toc_window_display": false
  }
 },
 "nbformat": 4,
 "nbformat_minor": 2
}
